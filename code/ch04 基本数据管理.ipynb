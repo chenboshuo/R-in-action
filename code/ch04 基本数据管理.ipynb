{
 "cells": [
  {
   "cell_type": "code",
   "execution_count": 10,
   "id": "c454674f",
   "metadata": {
    "ExecuteTime": {
     "end_time": "2022-04-27T13:59:04.092117Z",
     "start_time": "2022-04-27T13:59:04.043Z"
    }
   },
   "outputs": [
    {
     "name": "stdout",
     "output_type": "stream",
     "text": [
      "'data.frame':\t5 obs. of  10 variables:\n",
      " $ manager: num  1 2 3 4 5\n",
      " $ data   : chr  \"10/24/08\" \"10/28/08\" \"10/1/08\" \"10/12/08\" ...\n",
      " $ country: chr  \"US\" \"US\" \"UK\" \"UK\" ...\n",
      " $ gender : chr  \"M\" \"F\" \"F\" \"M\" ...\n",
      " $ age    : num  32 45 25 39 99\n",
      " $ q1     : num  5 3 3 3 2\n",
      " $ q2     : num  4 5 5 3 2\n",
      " $ q3     : num  5 2 5 4 1\n",
      " $ q4     : num  5 5 5 NA 2\n",
      " $ q5     : num  5 5 2 NA 1\n"
     ]
    }
   ],
   "source": [
    "# 4-1 创建leadership数据框\n",
    "manager <- c(1,2,3,4,5)\n",
    "data <- c(\"10/24/08\",\"10/28/08\",\"10/1/08\",\"10/12/08\",\"5/1/09\")\n",
    "country <- c(\"US\",\"US\",\"UK\",\"UK\",\"UK\")\n",
    "gender <- c(\"M\",\"F\",\"F\",\"M\",\"F\")\n",
    "age <- c(32,45,25,39,99)\n",
    "q1 <- c(5,3,3,3,2)\n",
    "q2 <- c(4,5,5,3,2)\n",
    "q3 <- c(5,2,5,4,1)\n",
    "q4 <- c(5,5,5,NA,2)\n",
    "q5 <- c(5,5,2,NA,1)\n",
    "leadership <- data.frame(manager,data,country,gender,age,\n",
    "                        q1,q2,q3,q4,q5,stringsAsFactors = FALSE)\n",
    "str(leadership)"
   ]
  },
  {
   "cell_type": "code",
   "execution_count": 23,
   "id": "2ac643f1",
   "metadata": {
    "ExecuteTime": {
     "end_time": "2022-04-27T14:15:59.514096Z",
     "start_time": "2022-04-27T14:15:59.492Z"
    }
   },
   "outputs": [],
   "source": [
    "mydata <- data.frame(x1 = c(2,2,6,4),\n",
    "                    x2 = c(3,4,2,8))\n",
    "mydata$sumx <- mydata$x1 + mydata$x2\n",
    "mydata$meanx <- (mydata$x1 + mydata$x2)/2"
   ]
  },
  {
   "cell_type": "code",
   "execution_count": 25,
   "id": "e327ee11",
   "metadata": {
    "ExecuteTime": {
     "end_time": "2022-04-27T14:20:34.903517Z",
     "start_time": "2022-04-27T14:20:34.874Z"
    }
   },
   "outputs": [
    {
     "name": "stderr",
     "output_type": "stream",
     "text": [
      "The following objects are masked from mydata (pos = 3):\n",
      "\n",
      "    x1, x2\n",
      "\n",
      "\n"
     ]
    }
   ],
   "source": [
    "mydata <- data.frame(x1 = c(2,2,6,4),\n",
    "                    x2 = c(3,4,2,8))\n",
    "attach(mydata)\n",
    "mydata$sumx <- x1 + x2\n",
    "mydata$meanx <- (x1 + x2)/2\n",
    "detach(mydata)"
   ]
  },
  {
   "cell_type": "code",
   "execution_count": 33,
   "id": "edcb3142",
   "metadata": {
    "ExecuteTime": {
     "end_time": "2022-04-27T14:40:20.580889Z",
     "start_time": "2022-04-27T14:40:20.559Z"
    }
   },
   "outputs": [],
   "source": [
    "mydata <- transform(mydata,\n",
    "                   sumx = x1 + x2,\n",
    "                   meanx = (x1 + x2)/2)"
   ]
  },
  {
   "cell_type": "code",
   "execution_count": 34,
   "id": "501347b9",
   "metadata": {
    "ExecuteTime": {
     "end_time": "2022-04-27T14:40:21.916454Z",
     "start_time": "2022-04-27T14:40:21.893Z"
    },
    "code_folding": []
   },
   "outputs": [],
   "source": [
    "leadership$age[leadership$age == 99]  <- NA\n",
    "leadership$agecat[leadership$age > 75] <-\"Elder\"\n",
    "leadership$agecat[leadership$age >= 55 & leadership$age <= 75] <- \"Middle Aged\"\n",
    "leadership$agecat[leadership$age < 55] <- \"Young\""
   ]
  },
  {
   "cell_type": "code",
   "execution_count": 37,
   "id": "98a3e7ed",
   "metadata": {
    "ExecuteTime": {
     "end_time": "2022-04-28T05:14:11.336313Z",
     "start_time": "2022-04-28T05:14:11.321Z"
    }
   },
   "outputs": [
    {
     "ename": "ERROR",
     "evalue": "Error in parse(text = x, srcfile = src): <text>:6:1: unexpected '}'\n5:     agecat[age >= 55 & age <= 75] <- \n6: }\n   ^\n",
     "output_type": "error",
     "traceback": [
      "Error in parse(text = x, srcfile = src): <text>:6:1: unexpected '}'\n5:     agecat[age >= 55 & age <= 75] <- \n6: }\n   ^\nTraceback:\n"
     ]
    }
   ],
   "source": [
    "# 代码改写为紧凑\n",
    "leadership <- within(leadership,{\n",
    "    agecat <- NA\n",
    "    agecat[age > 75]   <- \"Elder\"\n",
    "    agecat[age >= 55 & age <= 75] <- \"Middle Aged\"\n",
    "    agecat\n",
    "})"
   ]
  },
  {
   "cell_type": "code",
   "execution_count": 36,
   "id": "dd757123",
   "metadata": {
    "ExecuteTime": {
     "end_time": "2022-04-28T05:04:16.863161Z",
     "start_time": "2022-04-28T05:04:08.612Z"
    }
   },
   "outputs": [],
   "source": [
    "# 4.4 变量的重命名\n",
    "fix(leadership)"
   ]
  },
  {
   "cell_type": "code",
   "execution_count": null,
   "id": "06aa66a4",
   "metadata": {},
   "outputs": [],
   "source": []
  }
 ],
 "metadata": {
  "hide_input": false,
  "kernelspec": {
   "display_name": "R",
   "language": "R",
   "name": "ir"
  },
  "language_info": {
   "codemirror_mode": "r",
   "file_extension": ".r",
   "mimetype": "text/x-r-source",
   "name": "R",
   "pygments_lexer": "r",
   "version": "4.2.0"
  },
  "toc": {
   "base_numbering": 1,
   "nav_menu": {},
   "number_sections": true,
   "sideBar": true,
   "skip_h1_title": false,
   "title_cell": "Table of Contents",
   "title_sidebar": "Contents",
   "toc_cell": false,
   "toc_position": {},
   "toc_section_display": true,
   "toc_window_display": false
  },
  "varInspector": {
   "cols": {
    "lenName": 16,
    "lenType": 16,
    "lenVar": 40
   },
   "kernels_config": {
    "python": {
     "delete_cmd_postfix": "",
     "delete_cmd_prefix": "del ",
     "library": "var_list.py",
     "varRefreshCmd": "print(var_dic_list())"
    },
    "r": {
     "delete_cmd_postfix": ") ",
     "delete_cmd_prefix": "rm(",
     "library": "var_list.r",
     "varRefreshCmd": "cat(var_dic_list()) "
    }
   },
   "position": {
    "height": "379.862px",
    "left": "1063.58px",
    "right": "20px",
    "top": "120px",
    "width": "350px"
   },
   "types_to_exclude": [
    "module",
    "function",
    "builtin_function_or_method",
    "instance",
    "_Feature"
   ],
   "window_display": false
  }
 },
 "nbformat": 4,
 "nbformat_minor": 5
}
