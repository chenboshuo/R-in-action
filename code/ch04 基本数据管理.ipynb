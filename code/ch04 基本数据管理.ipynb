{
 "cells": [
  {
   "cell_type": "code",
   "execution_count": 10,
   "id": "128f7964",
   "metadata": {
    "ExecuteTime": {
     "end_time": "2022-04-27T13:59:04.092117Z",
     "start_time": "2022-04-27T13:59:04.043Z"
    }
   },
   "outputs": [
    {
     "name": "stdout",
     "output_type": "stream",
     "text": [
      "'data.frame':\t5 obs. of  10 variables:\n",
      " $ manager: num  1 2 3 4 5\n",
      " $ data   : chr  \"10/24/08\" \"10/28/08\" \"10/1/08\" \"10/12/08\" ...\n",
      " $ country: chr  \"US\" \"US\" \"UK\" \"UK\" ...\n",
      " $ gender : chr  \"M\" \"F\" \"F\" \"M\" ...\n",
      " $ age    : num  32 45 25 39 99\n",
      " $ q1     : num  5 3 3 3 2\n",
      " $ q2     : num  4 5 5 3 2\n",
      " $ q3     : num  5 2 5 4 1\n",
      " $ q4     : num  5 5 5 NA 2\n",
      " $ q5     : num  5 5 2 NA 1\n"
     ]
    }
   ],
   "source": [
    "# 4-1 创建leadership数据框\n",
    "manager <- c(1,2,3,4,5)\n",
    "data <- c(\"10/24/08\",\"10/28/08\",\"10/1/08\",\"10/12/08\",\"5/1/09\")\n",
    "country <- c(\"US\",\"US\",\"UK\",\"UK\",\"UK\")\n",
    "gender <- c(\"M\",\"F\",\"F\",\"M\",\"F\")\n",
    "age <- c(32,45,25,39,99)\n",
    "q1 <- c(5,3,3,3,2)\n",
    "q2 <- c(4,5,5,3,2)\n",
    "q3 <- c(5,2,5,4,1)\n",
    "q4 <- c(5,5,5,NA,2)\n",
    "q5 <- c(5,5,2,NA,1)\n",
    "leadership <- data.frame(manager,data,country,gender,age,\n",
    "                        q1,q2,q3,q4,q5,stringsAsFactors = FALSE)\n",
    "str(leadership)"
   ]
  },
  {
   "cell_type": "code",
   "execution_count": 23,
   "id": "69ebae4e",
   "metadata": {
    "ExecuteTime": {
     "end_time": "2022-04-27T14:15:59.514096Z",
     "start_time": "2022-04-27T14:15:59.492Z"
    }
   },
   "outputs": [],
   "source": [
    "mydata <- data.frame(x1 = c(2,2,6,4),\n",
    "                    x2 = c(3,4,2,8))\n",
    "mydata$sumx <- mydata$x1 + mydata$x2\n",
    "mydata$meanx <- (mydata$x1 + mydata$x2)/2"
   ]
  },
  {
   "cell_type": "code",
   "execution_count": 50,
   "id": "111a5438",
   "metadata": {
    "ExecuteTime": {
     "end_time": "2022-04-28T07:43:06.854410Z",
     "start_time": "2022-04-28T07:43:06.813Z"
    }
   },
   "outputs": [
    {
     "name": "stderr",
     "output_type": "stream",
     "text": [
      "The following objects are masked from mydata (pos = 3):\n",
      "\n",
      "    x1, x2\n",
      "\n",
      "\n"
     ]
    },
    {
     "data": {
      "text/html": [
       "<table class=\"dataframe\">\n",
       "<caption>A data.frame: 4 × 4</caption>\n",
       "<thead>\n",
       "\t<tr><th scope=col>x1</th><th scope=col>x2</th><th scope=col>sumx</th><th scope=col>meanx</th></tr>\n",
       "\t<tr><th scope=col>&lt;dbl&gt;</th><th scope=col>&lt;dbl&gt;</th><th scope=col>&lt;dbl&gt;</th><th scope=col>&lt;dbl&gt;</th></tr>\n",
       "</thead>\n",
       "<tbody>\n",
       "\t<tr><td>2</td><td>3</td><td> 5</td><td>2.5</td></tr>\n",
       "\t<tr><td>2</td><td>4</td><td> 6</td><td>3.0</td></tr>\n",
       "\t<tr><td>6</td><td>2</td><td> 8</td><td>4.0</td></tr>\n",
       "\t<tr><td>4</td><td>8</td><td>12</td><td>6.0</td></tr>\n",
       "</tbody>\n",
       "</table>\n"
      ],
      "text/latex": [
       "A data.frame: 4 × 4\n",
       "\\begin{tabular}{llll}\n",
       " x1 & x2 & sumx & meanx\\\\\n",
       " <dbl> & <dbl> & <dbl> & <dbl>\\\\\n",
       "\\hline\n",
       "\t 2 & 3 &  5 & 2.5\\\\\n",
       "\t 2 & 4 &  6 & 3.0\\\\\n",
       "\t 6 & 2 &  8 & 4.0\\\\\n",
       "\t 4 & 8 & 12 & 6.0\\\\\n",
       "\\end{tabular}\n"
      ],
      "text/markdown": [
       "\n",
       "A data.frame: 4 × 4\n",
       "\n",
       "| x1 &lt;dbl&gt; | x2 &lt;dbl&gt; | sumx &lt;dbl&gt; | meanx &lt;dbl&gt; |\n",
       "|---|---|---|---|\n",
       "| 2 | 3 |  5 | 2.5 |\n",
       "| 2 | 4 |  6 | 3.0 |\n",
       "| 6 | 2 |  8 | 4.0 |\n",
       "| 4 | 8 | 12 | 6.0 |\n",
       "\n"
      ],
      "text/plain": [
       "  x1 x2 sumx meanx\n",
       "1 2  3   5   2.5  \n",
       "2 2  4   6   3.0  \n",
       "3 6  2   8   4.0  \n",
       "4 4  8  12   6.0  "
      ]
     },
     "metadata": {},
     "output_type": "display_data"
    }
   ],
   "source": [
    "mydata <- data.frame(x1 = c(2,2,6,4),\n",
    "                    x2 = c(3,4,2,8))\n",
    "attach(mydata)\n",
    "mydata$sumx <- x1 + x2\n",
    "mydata$meanx <- (x1 + x2)/2\n",
    "detach(mydata)\n",
    "mydata"
   ]
  },
  {
   "cell_type": "code",
   "execution_count": 49,
   "id": "87a651a0",
   "metadata": {
    "ExecuteTime": {
     "end_time": "2022-04-28T07:42:52.520481Z",
     "start_time": "2022-04-28T07:42:52.479Z"
    }
   },
   "outputs": [
    {
     "data": {
      "text/html": [
       "<table class=\"dataframe\">\n",
       "<caption>A data.frame: 4 × 4</caption>\n",
       "<thead>\n",
       "\t<tr><th scope=col>x1</th><th scope=col>x2</th><th scope=col>sumx</th><th scope=col>meanx</th></tr>\n",
       "\t<tr><th scope=col>&lt;dbl&gt;</th><th scope=col>&lt;dbl&gt;</th><th scope=col>&lt;dbl&gt;</th><th scope=col>&lt;dbl&gt;</th></tr>\n",
       "</thead>\n",
       "<tbody>\n",
       "\t<tr><td>2</td><td>3</td><td> 5</td><td>2.5</td></tr>\n",
       "\t<tr><td>2</td><td>4</td><td> 6</td><td>3.0</td></tr>\n",
       "\t<tr><td>6</td><td>2</td><td> 8</td><td>4.0</td></tr>\n",
       "\t<tr><td>4</td><td>8</td><td>12</td><td>6.0</td></tr>\n",
       "</tbody>\n",
       "</table>\n"
      ],
      "text/latex": [
       "A data.frame: 4 × 4\n",
       "\\begin{tabular}{llll}\n",
       " x1 & x2 & sumx & meanx\\\\\n",
       " <dbl> & <dbl> & <dbl> & <dbl>\\\\\n",
       "\\hline\n",
       "\t 2 & 3 &  5 & 2.5\\\\\n",
       "\t 2 & 4 &  6 & 3.0\\\\\n",
       "\t 6 & 2 &  8 & 4.0\\\\\n",
       "\t 4 & 8 & 12 & 6.0\\\\\n",
       "\\end{tabular}\n"
      ],
      "text/markdown": [
       "\n",
       "A data.frame: 4 × 4\n",
       "\n",
       "| x1 &lt;dbl&gt; | x2 &lt;dbl&gt; | sumx &lt;dbl&gt; | meanx &lt;dbl&gt; |\n",
       "|---|---|---|---|\n",
       "| 2 | 3 |  5 | 2.5 |\n",
       "| 2 | 4 |  6 | 3.0 |\n",
       "| 6 | 2 |  8 | 4.0 |\n",
       "| 4 | 8 | 12 | 6.0 |\n",
       "\n"
      ],
      "text/plain": [
       "  x1 x2 sumx meanx\n",
       "1 2  3   5   2.5  \n",
       "2 2  4   6   3.0  \n",
       "3 6  2   8   4.0  \n",
       "4 4  8  12   6.0  "
      ]
     },
     "metadata": {},
     "output_type": "display_data"
    }
   ],
   "source": [
    "mydata <- transform(mydata,\n",
    "                   sumx = x1 + x2,\n",
    "                   meanx = (x1 + x2)/2)\n",
    "mydata"
   ]
  },
  {
   "cell_type": "code",
   "execution_count": 34,
   "id": "3e059b28",
   "metadata": {
    "ExecuteTime": {
     "end_time": "2022-04-27T14:40:21.916454Z",
     "start_time": "2022-04-27T14:40:21.893Z"
    },
    "code_folding": []
   },
   "outputs": [],
   "source": [
    "leadership$age[leadership$age == 99]  <- NA\n",
    "leadership$agecat[leadership$age > 75] <-\"Elder\"\n",
    "leadership$agecat[leadership$age >= 55 & leadership$age <= 75] <- \"Middle Aged\"\n",
    "leadership$agecat[leadership$age < 55] <- \"Young\""
   ]
  },
  {
   "cell_type": "code",
   "execution_count": 45,
   "id": "f402dc79",
   "metadata": {
    "ExecuteTime": {
     "end_time": "2022-04-28T07:42:09.854597Z",
     "start_time": "2022-04-28T07:42:09.836Z"
    }
   },
   "outputs": [],
   "source": [
    "# 代码改写为紧凑\n",
    "leadership <- within(leadership,{\n",
    "    agecat <- NA\n",
    "    agecat[age > 75]   <- \"Elder\"\n",
    "    agecat[age >= 55 & age <= 75] <- \"Middle Aged\"\n",
    "    agecat[age < 55] <- \"Young\"\n",
    "})"
   ]
  },
  {
   "cell_type": "code",
   "execution_count": null,
   "id": "4c78850d",
   "metadata": {
    "ExecuteTime": {
     "end_time": "2022-04-28T07:37:30.242326Z",
     "start_time": "2022-04-28T07:37:17.417Z"
    }
   },
   "outputs": [],
   "source": [
    "# 4.4 变量的重命名\n",
    "fix(leadership)"
   ]
  },
  {
   "attachments": {
    "image.png": {
     "image/png": "[encoded data removed]"
    }
   },
   "cell_type": "markdown",
   "id": "7c79c117",
   "metadata": {},
   "source": [
    "![image.png](attachment:image.png)"
   ]
  },
  {
   "cell_type": "code",
   "execution_count": 48,
   "id": "effa3611",
   "metadata": {
    "ExecuteTime": {
     "end_time": "2022-04-28T07:42:36.595710Z",
     "start_time": "2022-04-28T07:42:36.571Z"
    }
   },
   "outputs": [
    {
     "ename": "ERROR",
     "evalue": "Error in -\"testDate\": invalid argument to unary operator\n",
     "output_type": "error",
     "traceback": [
      "Error in -\"testDate\": invalid argument to unary operator\nTraceback:\n"
     ]
    }
   ],
   "source": [
    "names(leadership)[2] < - \"testDate\" "
   ]
  },
  {
   "cell_type": "code",
   "execution_count": 47,
   "id": "c1a1f93b",
   "metadata": {
    "ExecuteTime": {
     "end_time": "2022-04-28T07:42:15.536750Z",
     "start_time": "2022-04-28T07:42:15.510Z"
    }
   },
   "outputs": [
    {
     "name": "stdout",
     "output_type": "stream",
     "text": [
      "'data.frame':\t5 obs. of  11 variables:\n",
      " $ manager: num  1 2 3 4 5\n",
      " $ data   : chr  \"10/24/08\" \"10/28/08\" \"10/1/08\" \"10/12/08\" ...\n",
      " $ country: chr  \"US\" \"US\" \"UK\" \"UK\" ...\n",
      " $ gender : chr  \"M\" \"F\" \"F\" \"M\" ...\n",
      " $ age    : num  32 45 25 39 NA\n",
      " $ q1     : num  5 3 3 3 2\n",
      " $ q2     : num  4 5 5 3 2\n",
      " $ q3     : num  5 2 5 4 1\n",
      " $ q4     : num  5 5 5 NA 2\n",
      " $ q5     : num  5 5 2 NA 1\n",
      " $ agecat : chr  \"Young\" \"Young\" \"Young\" \"Young\" ...\n"
     ]
    }
   ],
   "source": [
    "str(leadership)"
   ]
  },
  {
   "cell_type": "code",
   "execution_count": null,
   "id": "d63e0ea2",
   "metadata": {},
   "outputs": [],
   "source": []
  }
 ],
 "metadata": {
  "hide_input": false,
  "kernelspec": {
   "display_name": "R",
   "language": "R",
   "name": "ir"
  },
  "language_info": {
   "codemirror_mode": "r",
   "file_extension": ".r",
   "mimetype": "text/x-r-source",
   "name": "R",
   "pygments_lexer": "r",
   "version": "4.2.0"
  },
  "toc": {
   "base_numbering": 1,
   "nav_menu": {},
   "number_sections": true,
   "sideBar": true,
   "skip_h1_title": false,
   "title_cell": "Table of Contents",
   "title_sidebar": "Contents",
   "toc_cell": false,
   "toc_position": {},
   "toc_section_display": true,
   "toc_window_display": false
  },
  "varInspector": {
   "cols": {
    "lenName": 16,
    "lenType": 16,
    "lenVar": 40
   },
   "kernels_config": {
    "python": {
     "delete_cmd_postfix": "",
     "delete_cmd_prefix": "del ",
     "library": "var_list.py",
     "varRefreshCmd": "print(var_dic_list())"
    },
    "r": {
     "delete_cmd_postfix": ") ",
     "delete_cmd_prefix": "rm(",
     "library": "var_list.r",
     "varRefreshCmd": "cat(var_dic_list()) "
    }
   },
   "position": {
    "height": "379.862px",
    "left": "1063.58px",
    "right": "20px",
    "top": "120px",
    "width": "350px"
   },
   "types_to_exclude": [
    "module",
    "function",
    "builtin_function_or_method",
    "instance",
    "_Feature"
   ],
   "window_display": false
  }
 },
 "nbformat": 4,
 "nbformat_minor": 5
}
