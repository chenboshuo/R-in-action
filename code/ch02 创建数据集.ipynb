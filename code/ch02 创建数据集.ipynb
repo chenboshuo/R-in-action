{
 "cells": [
  {
   "cell_type": "code",
   "execution_count": 1,
   "id": "d124e139",
   "metadata": {
    "ExecuteTime": {
     "end_time": "2022-04-25T16:23:08.866566Z",
     "start_time": "2022-04-25T16:23:08.842Z"
    }
   },
   "outputs": [],
   "source": [
    "# 2.2.1 向量\n",
    "a <- c(1,2,5,3,6,-2,4)#数值型\n",
    "b <- c(\"one\",\"two\",\"three\")#字符型\n",
    "c <- c(TRUE,TRUE,TRUE,FALSE,TRUE,TRUE,FALSE)#逻辑型"
   ]
  },
  {
   "cell_type": "code",
   "execution_count": 9,
   "id": "83ac9e26",
   "metadata": {
    "ExecuteTime": {
     "end_time": "2022-04-25T16:25:31.736804Z",
     "start_time": "2022-04-25T16:25:31.691Z"
    }
   },
   "outputs": [
    {
     "data": {
      "text/html": [
       "'h'"
      ],
      "text/latex": [
       "'h'"
      ],
      "text/markdown": [
       "'h'"
      ],
      "text/plain": [
       "[1] \"h\""
      ]
     },
     "metadata": {},
     "output_type": "display_data"
    },
    {
     "data": {
      "text/html": [
       "<style>\n",
       ".list-inline {list-style: none; margin:0; padding: 0}\n",
       ".list-inline>li {display: inline-block}\n",
       ".list-inline>li:not(:last-child)::after {content: \"\\00b7\"; padding: 0 .5ex}\n",
       "</style>\n",
       "<ol class=list-inline><li>'k'</li><li>'j'</li><li>'h'</li></ol>\n"
      ],
      "text/latex": [
       "\\begin{enumerate*}\n",
       "\\item 'k'\n",
       "\\item 'j'\n",
       "\\item 'h'\n",
       "\\end{enumerate*}\n"
      ],
      "text/markdown": [
       "1. 'k'\n",
       "2. 'j'\n",
       "3. 'h'\n",
       "\n",
       "\n"
      ],
      "text/plain": [
       "[1] \"k\" \"j\" \"h\""
      ]
     },
     "metadata": {},
     "output_type": "display_data"
    },
    {
     "data": {
      "text/html": [
       "'c'"
      ],
      "text/latex": [
       "'c'"
      ],
      "text/markdown": [
       "'c'"
      ],
      "text/plain": [
       "[1] \"c\""
      ]
     },
     "metadata": {},
     "output_type": "display_data"
    },
    {
     "data": {
      "text/html": [
       "<style>\n",
       ".list-inline {list-style: none; margin:0; padding: 0}\n",
       ".list-inline>li {display: inline-block}\n",
       ".list-inline>li:not(:last-child)::after {content: \"\\00b7\"; padding: 0 .5ex}\n",
       "</style>\n",
       "<ol class=list-inline><li>'k'</li><li>'h'</li><li>'c'</li></ol>\n"
      ],
      "text/latex": [
       "\\begin{enumerate*}\n",
       "\\item 'k'\n",
       "\\item 'h'\n",
       "\\item 'c'\n",
       "\\end{enumerate*}\n"
      ],
      "text/markdown": [
       "1. 'k'\n",
       "2. 'h'\n",
       "3. 'c'\n",
       "\n",
       "\n"
      ],
      "text/plain": [
       "[1] \"k\" \"h\" \"c\""
      ]
     },
     "metadata": {},
     "output_type": "display_data"
    }
   ],
   "source": [
    "a <- c(\"k\",\"j\",\"h\",\"a\",\"c\",\"m\")\n",
    "a[3]#提取第三个\n",
    "a[1:3]#提取1：3\n",
    "a[5]\n",
    "a[c(1,3,5)]# 提取1,3,5号位置"
   ]
  },
  {
   "cell_type": "code",
   "execution_count": 12,
   "id": "ae39d992",
   "metadata": {
    "ExecuteTime": {
     "end_time": "2022-04-26T14:01:54.070003Z",
     "start_time": "2022-04-26T14:01:54.044Z"
    }
   },
   "outputs": [
    {
     "data": {
      "text/html": [
       "<table class=\"dataframe\">\n",
       "<caption>A matrix: 5 × 4 of type int</caption>\n",
       "<tbody>\n",
       "\t<tr><td>1</td><td> 6</td><td>11</td><td>16</td></tr>\n",
       "\t<tr><td>2</td><td> 7</td><td>12</td><td>17</td></tr>\n",
       "\t<tr><td>3</td><td> 8</td><td>13</td><td>18</td></tr>\n",
       "\t<tr><td>4</td><td> 9</td><td>14</td><td>19</td></tr>\n",
       "\t<tr><td>5</td><td>10</td><td>15</td><td>20</td></tr>\n",
       "</tbody>\n",
       "</table>\n"
      ],
      "text/latex": [
       "A matrix: 5 × 4 of type int\n",
       "\\begin{tabular}{llll}\n",
       "\t 1 &  6 & 11 & 16\\\\\n",
       "\t 2 &  7 & 12 & 17\\\\\n",
       "\t 3 &  8 & 13 & 18\\\\\n",
       "\t 4 &  9 & 14 & 19\\\\\n",
       "\t 5 & 10 & 15 & 20\\\\\n",
       "\\end{tabular}\n"
      ],
      "text/markdown": [
       "\n",
       "A matrix: 5 × 4 of type int\n",
       "\n",
       "| 1 |  6 | 11 | 16 |\n",
       "| 2 |  7 | 12 | 17 |\n",
       "| 3 |  8 | 13 | 18 |\n",
       "| 4 |  9 | 14 | 19 |\n",
       "| 5 | 10 | 15 | 20 |\n",
       "\n"
      ],
      "text/plain": [
       "     [,1] [,2] [,3] [,4]\n",
       "[1,] 1     6   11   16  \n",
       "[2,] 2     7   12   17  \n",
       "[3,] 3     8   13   18  \n",
       "[4,] 4     9   14   19  \n",
       "[5,] 5    10   15   20  "
      ]
     },
     "metadata": {},
     "output_type": "display_data"
    }
   ],
   "source": [
    "# 2.2.2 矩阵\n",
    "#2.1 创建矩阵\n",
    "y <- matrix(1:20,nrow = 5,ncol = 4)\n",
    "y\n"
   ]
  },
  {
   "cell_type": "code",
   "execution_count": 13,
   "id": "208b3bc5",
   "metadata": {
    "ExecuteTime": {
     "end_time": "2022-04-26T14:01:57.080271Z",
     "start_time": "2022-04-26T14:01:57.051Z"
    }
   },
   "outputs": [
    {
     "data": {
      "text/html": [
       "<table class=\"dataframe\">\n",
       "<caption>A matrix: 2 × 2 of type dbl</caption>\n",
       "<thead>\n",
       "\t<tr><th></th><th scope=col>C1</th><th scope=col>C2</th></tr>\n",
       "</thead>\n",
       "<tbody>\n",
       "\t<tr><th scope=row>R1</th><td> 1</td><td>26</td></tr>\n",
       "\t<tr><th scope=row>R2</th><td>24</td><td>68</td></tr>\n",
       "</tbody>\n",
       "</table>\n"
      ],
      "text/latex": [
       "A matrix: 2 × 2 of type dbl\n",
       "\\begin{tabular}{r|ll}\n",
       "  & C1 & C2\\\\\n",
       "\\hline\n",
       "\tR1 &  1 & 26\\\\\n",
       "\tR2 & 24 & 68\\\\\n",
       "\\end{tabular}\n"
      ],
      "text/markdown": [
       "\n",
       "A matrix: 2 × 2 of type dbl\n",
       "\n",
       "| <!--/--> | C1 | C2 |\n",
       "|---|---|---|\n",
       "| R1 |  1 | 26 |\n",
       "| R2 | 24 | 68 |\n",
       "\n"
      ],
      "text/plain": [
       "   C1 C2\n",
       "R1  1 26\n",
       "R2 24 68"
      ]
     },
     "metadata": {},
     "output_type": "display_data"
    }
   ],
   "source": [
    "cells <- c(1,26,24,68)\n",
    "rnames <- c(\"R1\",\"R2\")\n",
    "cnames <- c(\"C1\",\"C2\")\n",
    "mymatrix <- matrix(cells,nrow = 2,ncol = 2,\n",
    "                  byrow = TRUE,#安装行进行填充\n",
    "                  dimnames = list(rnames,cnames))\n",
    "mymatrix"
   ]
  },
  {
   "cell_type": "code",
   "execution_count": 14,
   "id": "0d74f7d5",
   "metadata": {
    "ExecuteTime": {
     "end_time": "2022-04-26T14:03:06.108119Z",
     "start_time": "2022-04-26T14:03:06.076Z"
    }
   },
   "outputs": [
    {
     "data": {
      "text/html": [
       "<table class=\"dataframe\">\n",
       "<caption>A matrix: 2 × 2 of type dbl</caption>\n",
       "<thead>\n",
       "\t<tr><th></th><th scope=col>C1</th><th scope=col>C2</th></tr>\n",
       "</thead>\n",
       "<tbody>\n",
       "\t<tr><th scope=row>R1</th><td> 1</td><td>24</td></tr>\n",
       "\t<tr><th scope=row>R2</th><td>26</td><td>68</td></tr>\n",
       "</tbody>\n",
       "</table>\n"
      ],
      "text/latex": [
       "A matrix: 2 × 2 of type dbl\n",
       "\\begin{tabular}{r|ll}\n",
       "  & C1 & C2\\\\\n",
       "\\hline\n",
       "\tR1 &  1 & 24\\\\\n",
       "\tR2 & 26 & 68\\\\\n",
       "\\end{tabular}\n"
      ],
      "text/markdown": [
       "\n",
       "A matrix: 2 × 2 of type dbl\n",
       "\n",
       "| <!--/--> | C1 | C2 |\n",
       "|---|---|---|\n",
       "| R1 |  1 | 24 |\n",
       "| R2 | 26 | 68 |\n",
       "\n"
      ],
      "text/plain": [
       "   C1 C2\n",
       "R1  1 24\n",
       "R2 26 68"
      ]
     },
     "metadata": {},
     "output_type": "display_data"
    }
   ],
   "source": [
    "mymatrix <- matrix(cells,nrow = 2,ncol = 2 ,\n",
    "                  byrow = FALSE,#安装列进行填充\n",
    "                  dimnames = list (rnames,cnames))\n",
    "mymatrix"
   ]
  },
  {
   "cell_type": "code",
   "execution_count": 15,
   "id": "b881a6eb",
   "metadata": {
    "ExecuteTime": {
     "end_time": "2022-04-26T14:03:51.378741Z",
     "start_time": "2022-04-26T14:03:51.354Z"
    }
   },
   "outputs": [
    {
     "data": {
      "text/html": [
       "<table class=\"dataframe\">\n",
       "<caption>A matrix: 2 × 2 of type dbl</caption>\n",
       "<thead>\n",
       "\t<tr><th></th><th scope=col>C1</th><th scope=col>C2</th></tr>\n",
       "</thead>\n",
       "<tbody>\n",
       "\t<tr><th scope=row>R1</th><td> 1</td><td>24</td></tr>\n",
       "\t<tr><th scope=row>R2</th><td>26</td><td>68</td></tr>\n",
       "</tbody>\n",
       "</table>\n"
      ],
      "text/latex": [
       "A matrix: 2 × 2 of type dbl\n",
       "\\begin{tabular}{r|ll}\n",
       "  & C1 & C2\\\\\n",
       "\\hline\n",
       "\tR1 &  1 & 24\\\\\n",
       "\tR2 & 26 & 68\\\\\n",
       "\\end{tabular}\n"
      ],
      "text/markdown": [
       "\n",
       "A matrix: 2 × 2 of type dbl\n",
       "\n",
       "| <!--/--> | C1 | C2 |\n",
       "|---|---|---|\n",
       "| R1 |  1 | 24 |\n",
       "| R2 | 26 | 68 |\n",
       "\n"
      ],
      "text/plain": [
       "   C1 C2\n",
       "R1  1 24\n",
       "R2 26 68"
      ]
     },
     "metadata": {},
     "output_type": "display_data"
    }
   ],
   "source": [
    "mymatrix <- matrix(cells,nrow = 2,ncol = 2 ,\n",
    "\n",
    "                  dimnames = list (rnames,cnames))# 默认按照列进行填充\n",
    "mymatrix"
   ]
  },
  {
   "cell_type": "code",
   "execution_count": 16,
   "id": "9fe6a7cf",
   "metadata": {
    "ExecuteTime": {
     "end_time": "2022-04-26T14:04:53.559462Z",
     "start_time": "2022-04-26T14:04:53.533Z"
    }
   },
   "outputs": [
    {
     "data": {
      "text/html": [
       "<table class=\"dataframe\">\n",
       "<caption>A matrix: 2 × 5 of type int</caption>\n",
       "<tbody>\n",
       "\t<tr><td>1</td><td>3</td><td>5</td><td>7</td><td> 9</td></tr>\n",
       "\t<tr><td>2</td><td>4</td><td>6</td><td>8</td><td>10</td></tr>\n",
       "</tbody>\n",
       "</table>\n"
      ],
      "text/latex": [
       "A matrix: 2 × 5 of type int\n",
       "\\begin{tabular}{lllll}\n",
       "\t 1 & 3 & 5 & 7 &  9\\\\\n",
       "\t 2 & 4 & 6 & 8 & 10\\\\\n",
       "\\end{tabular}\n"
      ],
      "text/markdown": [
       "\n",
       "A matrix: 2 × 5 of type int\n",
       "\n",
       "| 1 | 3 | 5 | 7 |  9 |\n",
       "| 2 | 4 | 6 | 8 | 10 |\n",
       "\n"
      ],
      "text/plain": [
       "     [,1] [,2] [,3] [,4] [,5]\n",
       "[1,] 1    3    5    7     9  \n",
       "[2,] 2    4    6    8    10  "
      ]
     },
     "metadata": {},
     "output_type": "display_data"
    }
   ],
   "source": [
    "#2-2 矩阵下标的使用\n",
    "x <- matrix(1:10,nrow = 2)\n",
    "x"
   ]
  },
  {
   "cell_type": "code",
   "execution_count": 18,
   "id": "69de1059",
   "metadata": {
    "ExecuteTime": {
     "end_time": "2022-04-26T14:05:23.564431Z",
     "start_time": "2022-04-26T14:05:23.544Z"
    }
   },
   "outputs": [
    {
     "data": {
      "text/html": [
       "<style>\n",
       ".list-inline {list-style: none; margin:0; padding: 0}\n",
       ".list-inline>li {display: inline-block}\n",
       ".list-inline>li:not(:last-child)::after {content: \"\\00b7\"; padding: 0 .5ex}\n",
       "</style>\n",
       "<ol class=list-inline><li>3</li><li>4</li></ol>\n"
      ],
      "text/latex": [
       "\\begin{enumerate*}\n",
       "\\item 3\n",
       "\\item 4\n",
       "\\end{enumerate*}\n"
      ],
      "text/markdown": [
       "1. 3\n",
       "2. 4\n",
       "\n",
       "\n"
      ],
      "text/plain": [
       "[1] 3 4"
      ]
     },
     "metadata": {},
     "output_type": "display_data"
    }
   ],
   "source": [
    "x[,2]"
   ]
  },
  {
   "cell_type": "code",
   "execution_count": 19,
   "id": "e6cabe44",
   "metadata": {
    "ExecuteTime": {
     "end_time": "2022-04-26T14:05:29.183733Z",
     "start_time": "2022-04-26T14:05:29.164Z"
    }
   },
   "outputs": [
    {
     "data": {
      "text/html": [
       "7"
      ],
      "text/latex": [
       "7"
      ],
      "text/markdown": [
       "7"
      ],
      "text/plain": [
       "[1] 7"
      ]
     },
     "metadata": {},
     "output_type": "display_data"
    }
   ],
   "source": [
    "x[1,4]"
   ]
  },
  {
   "cell_type": "code",
   "execution_count": 20,
   "id": "20148dde",
   "metadata": {
    "ExecuteTime": {
     "end_time": "2022-04-26T14:06:40.858258Z",
     "start_time": "2022-04-26T14:06:40.836Z"
    }
   },
   "outputs": [
    {
     "data": {
      "text/html": [
       "<style>\n",
       ".list-inline {list-style: none; margin:0; padding: 0}\n",
       ".list-inline>li {display: inline-block}\n",
       ".list-inline>li:not(:last-child)::after {content: \"\\00b7\"; padding: 0 .5ex}\n",
       "</style>\n",
       "<ol class=list-inline><li>7</li><li>9</li></ol>\n"
      ],
      "text/latex": [
       "\\begin{enumerate*}\n",
       "\\item 7\n",
       "\\item 9\n",
       "\\end{enumerate*}\n"
      ],
      "text/markdown": [
       "1. 7\n",
       "2. 9\n",
       "\n",
       "\n"
      ],
      "text/plain": [
       "[1] 7 9"
      ]
     },
     "metadata": {},
     "output_type": "display_data"
    }
   ],
   "source": [
    "x [1,c(4,5)]"
   ]
  },
  {
   "cell_type": "code",
   "execution_count": 24,
   "id": "1b84a076",
   "metadata": {
    "ExecuteTime": {
     "end_time": "2022-04-26T14:09:32.402501Z",
     "start_time": "2022-04-26T14:09:32.376Z"
    }
   },
   "outputs": [
    {
     "data": {
      "text/html": [
       "<style>\n",
       ".list-inline {list-style: none; margin:0; padding: 0}\n",
       ".list-inline>li {display: inline-block}\n",
       ".list-inline>li:not(:last-child)::after {content: \"\\00b7\"; padding: 0 .5ex}\n",
       "</style>\n",
       "<ol class=list-inline><li>1</li><li>2</li><li>3</li><li>4</li><li>5</li><li>6</li><li>7</li><li>8</li><li>9</li><li>10</li><li>11</li><li>12</li><li>13</li><li>14</li><li>15</li><li>16</li><li>17</li><li>18</li><li>19</li><li>20</li><li>21</li><li>22</li><li>23</li><li>24</li></ol>\n"
      ],
      "text/latex": [
       "\\begin{enumerate*}\n",
       "\\item 1\n",
       "\\item 2\n",
       "\\item 3\n",
       "\\item 4\n",
       "\\item 5\n",
       "\\item 6\n",
       "\\item 7\n",
       "\\item 8\n",
       "\\item 9\n",
       "\\item 10\n",
       "\\item 11\n",
       "\\item 12\n",
       "\\item 13\n",
       "\\item 14\n",
       "\\item 15\n",
       "\\item 16\n",
       "\\item 17\n",
       "\\item 18\n",
       "\\item 19\n",
       "\\item 20\n",
       "\\item 21\n",
       "\\item 22\n",
       "\\item 23\n",
       "\\item 24\n",
       "\\end{enumerate*}\n"
      ],
      "text/markdown": [
       "1. 1\n",
       "2. 2\n",
       "3. 3\n",
       "4. 4\n",
       "5. 5\n",
       "6. 6\n",
       "7. 7\n",
       "8. 8\n",
       "9. 9\n",
       "10. 10\n",
       "11. 11\n",
       "12. 12\n",
       "13. 13\n",
       "14. 14\n",
       "15. 15\n",
       "16. 16\n",
       "17. 17\n",
       "18. 18\n",
       "19. 19\n",
       "20. 20\n",
       "21. 21\n",
       "22. 22\n",
       "23. 23\n",
       "24. 24\n",
       "\n",
       "\n"
      ],
      "text/plain": [
       ", , C1\n",
       "\n",
       "   B1 B2 B3\n",
       "A1  1  3  5\n",
       "A2  2  4  6\n",
       "\n",
       ", , C2\n",
       "\n",
       "   B1 B2 B3\n",
       "A1  7  9 11\n",
       "A2  8 10 12\n",
       "\n",
       ", , C3\n",
       "\n",
       "   B1 B2 B3\n",
       "A1 13 15 17\n",
       "A2 14 16 18\n",
       "\n",
       ", , C4\n",
       "\n",
       "   B1 B2 B3\n",
       "A1 19 21 23\n",
       "A2 20 22 24\n"
      ]
     },
     "metadata": {},
     "output_type": "display_data"
    }
   ],
   "source": [
    "# 2.2.3 数组\n",
    "# 2-3 创建一个数组\n",
    "dim1 <- c(\"A1\",\"A2\")\n",
    "dim2 <- c(\"B1\",\"B2\",\"B3\")\n",
    "dim3 <- c(\"C1\",\"C2\",\"C3\",\"C4\")\n",
    "z <- array(1:24,c(2,3,4),dimnames = list(dim1,dim2,dim3))\n",
    "z"
   ]
  },
  {
   "attachments": {
    "image.png": {
     "image/png": "[encoded data removed]"
    }
   },
   "cell_type": "markdown",
   "id": "9f5b55eb",
   "metadata": {
    "ExecuteTime": {
     "end_time": "2022-04-26T14:09:07.430425Z",
     "start_time": "2022-04-26T14:09:07.410Z"
    }
   },
   "source": [
    "![image.png](attachment:image.png)"
   ]
  },
  {
   "cell_type": "code",
   "execution_count": 3,
   "id": "a94fa2e7",
   "metadata": {
    "ExecuteTime": {
     "end_time": "2022-04-26T15:11:17.485085Z",
     "start_time": "2022-04-26T15:11:17.449Z"
    }
   },
   "outputs": [
    {
     "data": {
      "text/html": [
       "<table class=\"dataframe\">\n",
       "<caption>A data.frame: 4 × 4</caption>\n",
       "<thead>\n",
       "\t<tr><th scope=col>patientID</th><th scope=col>age</th><th scope=col>diabetes</th><th scope=col>status</th></tr>\n",
       "\t<tr><th scope=col>&lt;dbl&gt;</th><th scope=col>&lt;dbl&gt;</th><th scope=col>&lt;chr&gt;</th><th scope=col>&lt;chr&gt;</th></tr>\n",
       "</thead>\n",
       "<tbody>\n",
       "\t<tr><td>1</td><td>25</td><td>Typel</td><td>Poor     </td></tr>\n",
       "\t<tr><td>2</td><td>34</td><td>Type2</td><td>Improved </td></tr>\n",
       "\t<tr><td>3</td><td>28</td><td>Typel</td><td>Excellent</td></tr>\n",
       "\t<tr><td>4</td><td>52</td><td>Typel</td><td>Poor     </td></tr>\n",
       "</tbody>\n",
       "</table>\n"
      ],
      "text/latex": [
       "A data.frame: 4 × 4\n",
       "\\begin{tabular}{llll}\n",
       " patientID & age & diabetes & status\\\\\n",
       " <dbl> & <dbl> & <chr> & <chr>\\\\\n",
       "\\hline\n",
       "\t 1 & 25 & Typel & Poor     \\\\\n",
       "\t 2 & 34 & Type2 & Improved \\\\\n",
       "\t 3 & 28 & Typel & Excellent\\\\\n",
       "\t 4 & 52 & Typel & Poor     \\\\\n",
       "\\end{tabular}\n"
      ],
      "text/markdown": [
       "\n",
       "A data.frame: 4 × 4\n",
       "\n",
       "| patientID &lt;dbl&gt; | age &lt;dbl&gt; | diabetes &lt;chr&gt; | status &lt;chr&gt; |\n",
       "|---|---|---|---|\n",
       "| 1 | 25 | Typel | Poor      |\n",
       "| 2 | 34 | Type2 | Improved  |\n",
       "| 3 | 28 | Typel | Excellent |\n",
       "| 4 | 52 | Typel | Poor      |\n",
       "\n"
      ],
      "text/plain": [
       "  patientID age diabetes status   \n",
       "1 1         25  Typel    Poor     \n",
       "2 2         34  Type2    Improved \n",
       "3 3         28  Typel    Excellent\n",
       "4 4         52  Typel    Poor     "
      ]
     },
     "metadata": {},
     "output_type": "display_data"
    }
   ],
   "source": [
    "# 2.2.4 数据框\n",
    "# 2-4 创建一个数据框\n",
    "patientID <- c(1,2,3,4)\n",
    "age <- c(25,34,28,52)\n",
    "diabetes <- c(\"Typel\",\"Type2\",\"Typel\",\"Typel\")\n",
    "status <- c(\"Poor\",\"Improved\",\"Excellent\",\"Poor\")\n",
    "patientdata <- data.frame(patientID,age,diabetes,status)\n",
    "patientdata"
   ]
  },
  {
   "cell_type": "code",
   "execution_count": 4,
   "id": "7769a378",
   "metadata": {
    "ExecuteTime": {
     "end_time": "2022-04-26T15:11:19.413800Z",
     "start_time": "2022-04-26T15:11:19.388Z"
    }
   },
   "outputs": [
    {
     "data": {
      "text/html": [
       "<table class=\"dataframe\">\n",
       "<caption>A data.frame: 4 × 2</caption>\n",
       "<thead>\n",
       "\t<tr><th scope=col>patientID</th><th scope=col>age</th></tr>\n",
       "\t<tr><th scope=col>&lt;dbl&gt;</th><th scope=col>&lt;dbl&gt;</th></tr>\n",
       "</thead>\n",
       "<tbody>\n",
       "\t<tr><td>1</td><td>25</td></tr>\n",
       "\t<tr><td>2</td><td>34</td></tr>\n",
       "\t<tr><td>3</td><td>28</td></tr>\n",
       "\t<tr><td>4</td><td>52</td></tr>\n",
       "</tbody>\n",
       "</table>\n"
      ],
      "text/latex": [
       "A data.frame: 4 × 2\n",
       "\\begin{tabular}{ll}\n",
       " patientID & age\\\\\n",
       " <dbl> & <dbl>\\\\\n",
       "\\hline\n",
       "\t 1 & 25\\\\\n",
       "\t 2 & 34\\\\\n",
       "\t 3 & 28\\\\\n",
       "\t 4 & 52\\\\\n",
       "\\end{tabular}\n"
      ],
      "text/markdown": [
       "\n",
       "A data.frame: 4 × 2\n",
       "\n",
       "| patientID &lt;dbl&gt; | age &lt;dbl&gt; |\n",
       "|---|---|\n",
       "| 1 | 25 |\n",
       "| 2 | 34 |\n",
       "| 3 | 28 |\n",
       "| 4 | 52 |\n",
       "\n"
      ],
      "text/plain": [
       "  patientID age\n",
       "1 1         25 \n",
       "2 2         34 \n",
       "3 3         28 \n",
       "4 4         52 "
      ]
     },
     "metadata": {},
     "output_type": "display_data"
    }
   ],
   "source": [
    "#2-5 选取数据框中的元素\n",
    "patientdata[1:2]"
   ]
  },
  {
   "cell_type": "code",
   "execution_count": 5,
   "id": "94b751a5",
   "metadata": {
    "ExecuteTime": {
     "end_time": "2022-04-26T15:11:21.355833Z",
     "start_time": "2022-04-26T15:11:21.332Z"
    }
   },
   "outputs": [
    {
     "data": {
      "text/html": [
       "<table class=\"dataframe\">\n",
       "<caption>A data.frame: 4 × 2</caption>\n",
       "<thead>\n",
       "\t<tr><th scope=col>diabetes</th><th scope=col>status</th></tr>\n",
       "\t<tr><th scope=col>&lt;chr&gt;</th><th scope=col>&lt;chr&gt;</th></tr>\n",
       "</thead>\n",
       "<tbody>\n",
       "\t<tr><td>Typel</td><td>Poor     </td></tr>\n",
       "\t<tr><td>Type2</td><td>Improved </td></tr>\n",
       "\t<tr><td>Typel</td><td>Excellent</td></tr>\n",
       "\t<tr><td>Typel</td><td>Poor     </td></tr>\n",
       "</tbody>\n",
       "</table>\n"
      ],
      "text/latex": [
       "A data.frame: 4 × 2\n",
       "\\begin{tabular}{ll}\n",
       " diabetes & status\\\\\n",
       " <chr> & <chr>\\\\\n",
       "\\hline\n",
       "\t Typel & Poor     \\\\\n",
       "\t Type2 & Improved \\\\\n",
       "\t Typel & Excellent\\\\\n",
       "\t Typel & Poor     \\\\\n",
       "\\end{tabular}\n"
      ],
      "text/markdown": [
       "\n",
       "A data.frame: 4 × 2\n",
       "\n",
       "| diabetes &lt;chr&gt; | status &lt;chr&gt; |\n",
       "|---|---|\n",
       "| Typel | Poor      |\n",
       "| Type2 | Improved  |\n",
       "| Typel | Excellent |\n",
       "| Typel | Poor      |\n",
       "\n"
      ],
      "text/plain": [
       "  diabetes status   \n",
       "1 Typel    Poor     \n",
       "2 Type2    Improved \n",
       "3 Typel    Excellent\n",
       "4 Typel    Poor     "
      ]
     },
     "metadata": {},
     "output_type": "display_data"
    }
   ],
   "source": [
    "patientdata[c(\"diabetes\",\"status\")]\n"
   ]
  },
  {
   "cell_type": "code",
   "execution_count": 6,
   "id": "bdbe20dc",
   "metadata": {
    "ExecuteTime": {
     "end_time": "2022-04-26T15:11:36.050369Z",
     "start_time": "2022-04-26T15:11:36.026Z"
    }
   },
   "outputs": [
    {
     "data": {
      "text/html": [
       "<table class=\"dataframe\">\n",
       "<caption>A data.frame: 4 × 4</caption>\n",
       "<thead>\n",
       "\t<tr><th scope=col>patientID</th><th scope=col>age</th><th scope=col>diabetes</th><th scope=col>status</th></tr>\n",
       "\t<tr><th scope=col>&lt;dbl&gt;</th><th scope=col>&lt;dbl&gt;</th><th scope=col>&lt;chr&gt;</th><th scope=col>&lt;chr&gt;</th></tr>\n",
       "</thead>\n",
       "<tbody>\n",
       "\t<tr><td>1</td><td>25</td><td>Typel</td><td>Poor     </td></tr>\n",
       "\t<tr><td>2</td><td>34</td><td>Type2</td><td>Improved </td></tr>\n",
       "\t<tr><td>3</td><td>28</td><td>Typel</td><td>Excellent</td></tr>\n",
       "\t<tr><td>4</td><td>52</td><td>Typel</td><td>Poor     </td></tr>\n",
       "</tbody>\n",
       "</table>\n"
      ],
      "text/latex": [
       "A data.frame: 4 × 4\n",
       "\\begin{tabular}{llll}\n",
       " patientID & age & diabetes & status\\\\\n",
       " <dbl> & <dbl> & <chr> & <chr>\\\\\n",
       "\\hline\n",
       "\t 1 & 25 & Typel & Poor     \\\\\n",
       "\t 2 & 34 & Type2 & Improved \\\\\n",
       "\t 3 & 28 & Typel & Excellent\\\\\n",
       "\t 4 & 52 & Typel & Poor     \\\\\n",
       "\\end{tabular}\n"
      ],
      "text/markdown": [
       "\n",
       "A data.frame: 4 × 4\n",
       "\n",
       "| patientID &lt;dbl&gt; | age &lt;dbl&gt; | diabetes &lt;chr&gt; | status &lt;chr&gt; |\n",
       "|---|---|---|---|\n",
       "| 1 | 25 | Typel | Poor      |\n",
       "| 2 | 34 | Type2 | Improved  |\n",
       "| 3 | 28 | Typel | Excellent |\n",
       "| 4 | 52 | Typel | Poor      |\n",
       "\n"
      ],
      "text/plain": [
       "  patientID age diabetes status   \n",
       "1 1         25  Typel    Poor     \n",
       "2 2         34  Type2    Improved \n",
       "3 3         28  Typel    Excellent\n",
       "4 4         52  Typel    Poor     "
      ]
     },
     "metadata": {},
     "output_type": "display_data"
    }
   ],
   "source": [
    "patientdata"
   ]
  },
  {
   "cell_type": "code",
   "execution_count": 7,
   "id": "1bcb6163",
   "metadata": {
    "ExecuteTime": {
     "end_time": "2022-04-26T15:11:47.937598Z",
     "start_time": "2022-04-26T15:11:47.914Z"
    }
   },
   "outputs": [
    {
     "data": {
      "text/html": [
       "<style>\n",
       ".list-inline {list-style: none; margin:0; padding: 0}\n",
       ".list-inline>li {display: inline-block}\n",
       ".list-inline>li:not(:last-child)::after {content: \"\\00b7\"; padding: 0 .5ex}\n",
       "</style>\n",
       "<ol class=list-inline><li>25</li><li>34</li><li>28</li><li>52</li></ol>\n"
      ],
      "text/latex": [
       "\\begin{enumerate*}\n",
       "\\item 25\n",
       "\\item 34\n",
       "\\item 28\n",
       "\\item 52\n",
       "\\end{enumerate*}\n"
      ],
      "text/markdown": [
       "1. 25\n",
       "2. 34\n",
       "3. 28\n",
       "4. 52\n",
       "\n",
       "\n"
      ],
      "text/plain": [
       "[1] 25 34 28 52"
      ]
     },
     "metadata": {},
     "output_type": "display_data"
    }
   ],
   "source": [
    "patientdata$age"
   ]
  },
  {
   "cell_type": "code",
   "execution_count": 8,
   "id": "c4ee960a",
   "metadata": {
    "ExecuteTime": {
     "end_time": "2022-04-26T15:12:20.759974Z",
     "start_time": "2022-04-26T15:12:20.738Z"
    }
   },
   "outputs": [
    {
     "data": {
      "text/plain": [
       "       \n",
       "        Excellent Improved Poor\n",
       "  Type2         0        1    0\n",
       "  Typel         1        0    2"
      ]
     },
     "metadata": {},
     "output_type": "display_data"
    }
   ],
   "source": [
    "table(patientdata$diabetes,patientdata$status)"
   ]
  },
  {
   "cell_type": "code",
   "execution_count": 10,
   "id": "7761715f",
   "metadata": {
    "ExecuteTime": {
     "end_time": "2022-04-26T15:17:00.720880Z",
     "start_time": "2022-04-26T15:17:00.672Z"
    }
   },
   "outputs": [
    {
     "data": {
      "text/plain": [
       "   Min. 1st Qu.  Median    Mean 3rd Qu.    Max. \n",
       "  10.40   15.43   19.20   20.09   22.80   33.90 "
      ]
     },
     "metadata": {},
     "output_type": "display_data"
    }
   ],
   "source": [
    "#1.attach() detach() with()\n",
    "summary(mtcars$mpg)"
   ]
  },
  {
   "cell_type": "code",
   "execution_count": 12,
   "id": "a8180424",
   "metadata": {
    "ExecuteTime": {
     "end_time": "2022-04-26T15:17:46.591018Z",
     "start_time": "2022-04-26T15:17:46.522Z"
    }
   },
   "outputs": [
    {
     "data": {
      "image/png": "[encoded data removed]",
      "text/plain": [
       "plot without title"
      ]
     },
     "metadata": {
      "image/png": {
       "height": 420,
       "width": 420
      }
     },
     "output_type": "display_data"
    }
   ],
   "source": [
    "plot(mtcars$mpg,mtcars$disp)"
   ]
  },
  {
   "cell_type": "code",
   "execution_count": 13,
   "id": "54493f98",
   "metadata": {
    "ExecuteTime": {
     "end_time": "2022-04-26T15:18:00.313412Z",
     "start_time": "2022-04-26T15:18:00.254Z"
    }
   },
   "outputs": [
    {
     "data": {
      "image/png": "[encoded data removed]",
      "text/plain": [
       "plot without title"
      ]
     },
     "metadata": {
      "image/png": {
       "height": 420,
       "width": 420
      }
     },
     "output_type": "display_data"
    }
   ],
   "source": [
    "plot(mtcars$mpg,mtcars$wt)"
   ]
  },
  {
   "cell_type": "code",
   "execution_count": 14,
   "id": "56e442bb",
   "metadata": {
    "ExecuteTime": {
     "end_time": "2022-04-26T15:19:11.736170Z",
     "start_time": "2022-04-26T15:19:11.678Z"
    }
   },
   "outputs": [
    {
     "data": {
      "text/plain": [
       "   Min. 1st Qu.  Median    Mean 3rd Qu.    Max. \n",
       "  10.40   15.43   19.20   20.09   22.80   33.90 "
      ]
     },
     "metadata": {},
     "output_type": "display_data"
    },
    {
     "data": {
      "image/png": "[encoded data removed]",
      "text/plain": [
       "plot without title"
      ]
     },
     "metadata": {
      "image/png": {
       "height": 420,
       "width": 420
      }
     },
     "output_type": "display_data"
    }
   ],
   "source": [
    "#attach()可将数据框添加到R的搜索路径中\n",
    "attach(mtcars)\n",
    "summary(mpg)\n",
    "plot(mpg,disp)"
   ]
  },
  {
   "cell_type": "code",
   "execution_count": 15,
   "id": "47d1c7fb",
   "metadata": {
    "ExecuteTime": {
     "end_time": "2022-04-26T15:19:21.221482Z",
     "start_time": "2022-04-26T15:19:21.174Z"
    }
   },
   "outputs": [
    {
     "data": {
      "image/png": "[encoded data removed]",
      "text/plain": [
       "plot without title"
      ]
     },
     "metadata": {
      "image/png": {
       "height": 420,
       "width": 420
      }
     },
     "output_type": "display_data"
    }
   ],
   "source": [
    "plot(mpg,wt)"
   ]
  },
  {
   "cell_type": "code",
   "execution_count": 16,
   "id": "f6b42d36",
   "metadata": {
    "ExecuteTime": {
     "end_time": "2022-04-26T15:19:56.536124Z",
     "start_time": "2022-04-26T15:19:56.518Z"
    }
   },
   "outputs": [],
   "source": [
    "detach()# 将数据框从搜索路径中移除"
   ]
  },
  {
   "cell_type": "code",
   "execution_count": 17,
   "id": "c8a66309",
   "metadata": {
    "ExecuteTime": {
     "end_time": "2022-04-26T15:25:07.119895Z",
     "start_time": "2022-04-26T15:25:07.096Z"
    }
   },
   "outputs": [
    {
     "name": "stderr",
     "output_type": "stream",
     "text": [
      "The following object is masked _by_ .GlobalEnv:\n",
      "\n",
      "    mpg\n",
      "\n",
      "\n"
     ]
    }
   ],
   "source": [
    "# 当名称相同的对象不止一个时，这种方法的局限性就很明显。\n",
    "mpg <- c(25,36,47)\n",
    "attach(mtcars)\n"
   ]
  },
  {
   "cell_type": "code",
   "execution_count": 18,
   "id": "62a0f705",
   "metadata": {
    "ExecuteTime": {
     "end_time": "2022-04-26T15:25:20.611279Z",
     "start_time": "2022-04-26T15:25:20.590Z"
    }
   },
   "outputs": [
    {
     "ename": "ERROR",
     "evalue": "Error in xy.coords(x, y, xlabel, ylabel, log): 'x' and 'y' lengths differ\n",
     "output_type": "error",
     "traceback": [
      "Error in xy.coords(x, y, xlabel, ylabel, log): 'x' and 'y' lengths differ\nTraceback:\n",
      "1. plot(mpg, wt)",
      "2. plot.default(mpg, wt)",
      "3. xy.coords(x, y, xlabel, ylabel, log)",
      "4. stop(\"'x' and 'y' lengths differ\")"
     ]
    }
   ],
   "source": [
    "plot(mpg,wt)#问题出在mtcars被attach之前，环境中有一个名为mpg的对象。\n",
    "#原始对象将取得优先权"
   ]
  },
  {
   "cell_type": "code",
   "execution_count": 19,
   "id": "cec1acfb",
   "metadata": {
    "ExecuteTime": {
     "end_time": "2022-04-26T15:25:24.581974Z",
     "start_time": "2022-04-26T15:25:24.561Z"
    }
   },
   "outputs": [
    {
     "data": {
      "text/html": [
       "<style>\n",
       ".list-inline {list-style: none; margin:0; padding: 0}\n",
       ".list-inline>li {display: inline-block}\n",
       ".list-inline>li:not(:last-child)::after {content: \"\\00b7\"; padding: 0 .5ex}\n",
       "</style>\n",
       "<ol class=list-inline><li>25</li><li>36</li><li>47</li></ol>\n"
      ],
      "text/latex": [
       "\\begin{enumerate*}\n",
       "\\item 25\n",
       "\\item 36\n",
       "\\item 47\n",
       "\\end{enumerate*}\n"
      ],
      "text/markdown": [
       "1. 25\n",
       "2. 36\n",
       "3. 47\n",
       "\n",
       "\n"
      ],
      "text/plain": [
       "[1] 25 36 47"
      ]
     },
     "metadata": {},
     "output_type": "display_data"
    }
   ],
   "source": [
    "mpg"
   ]
  },
  {
   "cell_type": "code",
   "execution_count": 21,
   "id": "ae7230b2",
   "metadata": {
    "ExecuteTime": {
     "end_time": "2022-04-26T15:29:46.838515Z",
     "start_time": "2022-04-26T15:29:46.759Z"
    }
   },
   "outputs": [
    {
     "name": "stdout",
     "output_type": "stream",
     "text": [
      "   Min. 1st Qu.  Median    Mean 3rd Qu.    Max. \n",
      "  10.40   15.43   19.20   20.09   22.80   33.90 \n"
     ]
    },
    {
     "data": {
      "image/png": "[encoded data removed]",
      "text/plain": [
       "plot without title"
      ]
     },
     "metadata": {
      "image/png": {
       "height": 420,
       "width": 420
      }
     },
     "output_type": "display_data"
    },
    {
     "data": {
      "image/png": "[encoded data removed]",
      "text/plain": [
       "plot without title"
      ]
     },
     "metadata": {
      "image/png": {
       "height": 420,
       "width": 420
      }
     },
     "output_type": "display_data"
    }
   ],
   "source": [
    "#改进方法为使用with()，进行改写\n",
    "with(mtcars,{\n",
    "    print(summary(mpg))\n",
    "    plot(mpg,disp)\n",
    "    plot(mpg,wt)\n",
    "})# 在这种情况下，在{}之间的语句都针对mtcars进行执行。"
   ]
  },
  {
   "cell_type": "code",
   "execution_count": 23,
   "id": "6d73c336",
   "metadata": {
    "ExecuteTime": {
     "end_time": "2022-04-26T15:32:01.185570Z",
     "start_time": "2022-04-26T15:32:01.165Z"
    }
   },
   "outputs": [
    {
     "data": {
      "text/plain": [
       "   Min. 1st Qu.  Median    Mean 3rd Qu.    Max. \n",
       "  10.40   15.43   19.20   20.09   22.80   33.90 "
      ]
     },
     "metadata": {},
     "output_type": "display_data"
    }
   ],
   "source": [
    "with(mtcars,{\n",
    "    stars <- summary(mpg)\n",
    "    stars\n",
    "})"
   ]
  },
  {
   "cell_type": "code",
   "execution_count": 29,
   "id": "66cb9f0d",
   "metadata": {
    "ExecuteTime": {
     "end_time": "2022-04-26T15:33:18.935503Z",
     "start_time": "2022-04-26T15:33:18.917Z"
    }
   },
   "outputs": [],
   "source": [
    "with(mtcars,{\n",
    "    nokeepstats <- summary(mpg)\n",
    "    keepstats <<- summary(mpg)# <<- 可以将对象保存到with（）之外的全局环境中\n",
    "})"
   ]
  },
  {
   "cell_type": "code",
   "execution_count": 30,
   "id": "c7d485b4",
   "metadata": {
    "ExecuteTime": {
     "end_time": "2022-04-26T15:33:22.840435Z",
     "start_time": "2022-04-26T15:33:22.821Z"
    }
   },
   "outputs": [
    {
     "ename": "ERROR",
     "evalue": "Error in eval(expr, envir, enclos): object 'nokeepstats' not found\n",
     "output_type": "error",
     "traceback": [
      "Error in eval(expr, envir, enclos): object 'nokeepstats' not found\nTraceback:\n"
     ]
    }
   ],
   "source": [
    "nokeepstats# 非全局变量"
   ]
  },
  {
   "cell_type": "code",
   "execution_count": 31,
   "id": "8f520a08",
   "metadata": {
    "ExecuteTime": {
     "end_time": "2022-04-26T15:33:25.741888Z",
     "start_time": "2022-04-26T15:33:25.721Z"
    }
   },
   "outputs": [
    {
     "data": {
      "text/plain": [
       "   Min. 1st Qu.  Median    Mean 3rd Qu.    Max. \n",
       "  10.40   15.43   19.20   20.09   22.80   33.90 "
      ]
     },
     "metadata": {},
     "output_type": "display_data"
    }
   ],
   "source": [
    "keepstats#全局变量"
   ]
  },
  {
   "cell_type": "code",
   "execution_count": 32,
   "id": "5ef3eeab",
   "metadata": {
    "ExecuteTime": {
     "end_time": "2022-04-27T03:34:26.478815Z",
     "start_time": "2022-04-27T03:34:26.460Z"
    }
   },
   "outputs": [],
   "source": [
    "patientdata <- data.frame(patientID,age,diabetes,\n",
    "                         status,row.names = patientID)"
   ]
  },
  {
   "cell_type": "code",
   "execution_count": 33,
   "id": "bb376749",
   "metadata": {
    "ExecuteTime": {
     "end_time": "2022-04-27T03:34:35.754327Z",
     "start_time": "2022-04-27T03:34:35.734Z"
    }
   },
   "outputs": [
    {
     "data": {
      "text/html": [
       "<style>\n",
       ".list-inline {list-style: none; margin:0; padding: 0}\n",
       ".list-inline>li {display: inline-block}\n",
       ".list-inline>li:not(:last-child)::after {content: \"\\00b7\"; padding: 0 .5ex}\n",
       "</style>\n",
       "<ol class=list-inline><li>1</li><li>2</li><li>3</li><li>4</li></ol>\n"
      ],
      "text/latex": [
       "\\begin{enumerate*}\n",
       "\\item 1\n",
       "\\item 2\n",
       "\\item 3\n",
       "\\item 4\n",
       "\\end{enumerate*}\n"
      ],
      "text/markdown": [
       "1. 1\n",
       "2. 2\n",
       "3. 3\n",
       "4. 4\n",
       "\n",
       "\n"
      ],
      "text/plain": [
       "[1] 1 2 3 4"
      ]
     },
     "metadata": {},
     "output_type": "display_data"
    }
   ],
   "source": [
    "patientID"
   ]
  },
  {
   "cell_type": "code",
   "execution_count": 34,
   "id": "ccde8ef0",
   "metadata": {
    "ExecuteTime": {
     "end_time": "2022-04-27T03:35:03.826951Z",
     "start_time": "2022-04-27T03:35:03.792Z"
    }
   },
   "outputs": [
    {
     "data": {
      "text/html": [
       "<table class=\"dataframe\">\n",
       "<caption>A data.frame: 4 × 4</caption>\n",
       "<thead>\n",
       "\t<tr><th></th><th scope=col>patientID</th><th scope=col>age</th><th scope=col>diabetes</th><th scope=col>status</th></tr>\n",
       "\t<tr><th></th><th scope=col>&lt;dbl&gt;</th><th scope=col>&lt;dbl&gt;</th><th scope=col>&lt;chr&gt;</th><th scope=col>&lt;chr&gt;</th></tr>\n",
       "</thead>\n",
       "<tbody>\n",
       "\t<tr><th scope=row>1</th><td>1</td><td>25</td><td>Typel</td><td>Poor     </td></tr>\n",
       "\t<tr><th scope=row>2</th><td>2</td><td>34</td><td>Type2</td><td>Improved </td></tr>\n",
       "\t<tr><th scope=row>3</th><td>3</td><td>28</td><td>Typel</td><td>Excellent</td></tr>\n",
       "\t<tr><th scope=row>4</th><td>4</td><td>52</td><td>Typel</td><td>Poor     </td></tr>\n",
       "</tbody>\n",
       "</table>\n"
      ],
      "text/latex": [
       "A data.frame: 4 × 4\n",
       "\\begin{tabular}{r|llll}\n",
       "  & patientID & age & diabetes & status\\\\\n",
       "  & <dbl> & <dbl> & <chr> & <chr>\\\\\n",
       "\\hline\n",
       "\t1 & 1 & 25 & Typel & Poor     \\\\\n",
       "\t2 & 2 & 34 & Type2 & Improved \\\\\n",
       "\t3 & 3 & 28 & Typel & Excellent\\\\\n",
       "\t4 & 4 & 52 & Typel & Poor     \\\\\n",
       "\\end{tabular}\n"
      ],
      "text/markdown": [
       "\n",
       "A data.frame: 4 × 4\n",
       "\n",
       "| <!--/--> | patientID &lt;dbl&gt; | age &lt;dbl&gt; | diabetes &lt;chr&gt; | status &lt;chr&gt; |\n",
       "|---|---|---|---|---|\n",
       "| 1 | 1 | 25 | Typel | Poor      |\n",
       "| 2 | 2 | 34 | Type2 | Improved  |\n",
       "| 3 | 3 | 28 | Typel | Excellent |\n",
       "| 4 | 4 | 52 | Typel | Poor      |\n",
       "\n"
      ],
      "text/plain": [
       "  patientID age diabetes status   \n",
       "1 1         25  Typel    Poor     \n",
       "2 2         34  Type2    Improved \n",
       "3 3         28  Typel    Excellent\n",
       "4 4         52  Typel    Poor     "
      ]
     },
     "metadata": {},
     "output_type": "display_data"
    }
   ],
   "source": [
    "patientdata"
   ]
  },
  {
   "cell_type": "code",
   "execution_count": 35,
   "id": "2441b4fd",
   "metadata": {
    "ExecuteTime": {
     "end_time": "2022-04-27T03:39:55.989025Z",
     "start_time": "2022-04-27T03:39:55.952Z"
    }
   },
   "outputs": [
    {
     "name": "stdout",
     "output_type": "stream",
     "text": [
      "'data.frame':\t4 obs. of  4 variables:\n",
      " $ patientID: num  1 2 3 4\n",
      " $ age      : num  25 34 28 52\n",
      " $ diabetes : Factor w/ 3 levels \"Excellent\",\"Improved\",..: 3 2 1 3\n",
      " $ status   : Ord.factor w/ 3 levels \"Excellent\"<\"Improved\"<..: 3 2 1 3\n"
     ]
    }
   ],
   "source": [
    "#2.2.5. 因子\n",
    "#2-6 因子的使用\n",
    "patientID <- c(1,2,3,4)\n",
    "age <- c(25,34,28,52)\n",
    "diabetes <- c(\"Poor\",\"Improved\",\"Excellent\",\"Poor\")# 以向量形式输入数据\n",
    "diabetes <- factor(diabetes)\n",
    "status <- factor(status,ordered = TRUE)\n",
    "patientdata <- data.frame(patientID,age,diabetes,status)\n",
    "str(patientdata)# 显示对象结构"
   ]
  },
  {
   "cell_type": "code",
   "execution_count": 36,
   "id": "26f6d1a9",
   "metadata": {
    "ExecuteTime": {
     "end_time": "2022-04-27T03:40:27.760189Z",
     "start_time": "2022-04-27T03:40:27.736Z"
    }
   },
   "outputs": [
    {
     "data": {
      "text/plain": [
       "   patientID         age             diabetes       status \n",
       " Min.   :1.00   Min.   :25.00   Excellent:1   Excellent:1  \n",
       " 1st Qu.:1.75   1st Qu.:27.25   Improved :1   Improved :1  \n",
       " Median :2.50   Median :31.00   Poor     :2   Poor     :2  \n",
       " Mean   :2.50   Mean   :34.75                              \n",
       " 3rd Qu.:3.25   3rd Qu.:38.50                              \n",
       " Max.   :4.00   Max.   :52.00                              "
      ]
     },
     "metadata": {},
     "output_type": "display_data"
    }
   ],
   "source": [
    "summary(patientdata)"
   ]
  },
  {
   "cell_type": "code",
   "execution_count": 38,
   "id": "d61a4573",
   "metadata": {
    "ExecuteTime": {
     "end_time": "2022-04-27T03:46:21.725845Z",
     "start_time": "2022-04-27T03:46:21.685Z"
    }
   },
   "outputs": [
    {
     "data": {
      "text/html": [
       "<dl>\n",
       "\t<dt>$title</dt>\n",
       "\t\t<dd>'My First List'</dd>\n",
       "\t<dt>$ages</dt>\n",
       "\t\t<dd><style>\n",
       ".list-inline {list-style: none; margin:0; padding: 0}\n",
       ".list-inline>li {display: inline-block}\n",
       ".list-inline>li:not(:last-child)::after {content: \"\\00b7\"; padding: 0 .5ex}\n",
       "</style>\n",
       "<ol class=list-inline><li>25</li><li>26</li><li>18</li><li>39</li></ol>\n",
       "</dd>\n",
       "\t<dt>[[3]]</dt>\n",
       "\t\t<dd><table class=\"dataframe\">\n",
       "<caption>A matrix: 5 × 2 of type int</caption>\n",
       "<tbody>\n",
       "\t<tr><td>1</td><td> 6</td></tr>\n",
       "\t<tr><td>2</td><td> 7</td></tr>\n",
       "\t<tr><td>3</td><td> 8</td></tr>\n",
       "\t<tr><td>4</td><td> 9</td></tr>\n",
       "\t<tr><td>5</td><td>10</td></tr>\n",
       "</tbody>\n",
       "</table>\n",
       "</dd>\n",
       "\t<dt>[[4]]</dt>\n",
       "\t\t<dd><style>\n",
       ".list-inline {list-style: none; margin:0; padding: 0}\n",
       ".list-inline>li {display: inline-block}\n",
       ".list-inline>li:not(:last-child)::after {content: \"\\00b7\"; padding: 0 .5ex}\n",
       "</style>\n",
       "<ol class=list-inline><li>'one'</li><li>'two'</li><li>'three'</li></ol>\n",
       "</dd>\n",
       "</dl>\n"
      ],
      "text/latex": [
       "\\begin{description}\n",
       "\\item[\\$title] 'My First List'\n",
       "\\item[\\$ages] \\begin{enumerate*}\n",
       "\\item 25\n",
       "\\item 26\n",
       "\\item 18\n",
       "\\item 39\n",
       "\\end{enumerate*}\n",
       "\n",
       "\\item[{[[3]]}] A matrix: 5 × 2 of type int\n",
       "\\begin{tabular}{ll}\n",
       "\t 1 &  6\\\\\n",
       "\t 2 &  7\\\\\n",
       "\t 3 &  8\\\\\n",
       "\t 4 &  9\\\\\n",
       "\t 5 & 10\\\\\n",
       "\\end{tabular}\n",
       "\n",
       "\\item[{[[4]]}] \\begin{enumerate*}\n",
       "\\item 'one'\n",
       "\\item 'two'\n",
       "\\item 'three'\n",
       "\\end{enumerate*}\n",
       "\n",
       "\\end{description}\n"
      ],
      "text/markdown": [
       "$title\n",
       ":   'My First List'\n",
       "$ages\n",
       ":   1. 25\n",
       "2. 26\n",
       "3. 18\n",
       "4. 39\n",
       "\n",
       "\n",
       "\n",
       "[[3]]\n",
       ":   \n",
       "A matrix: 5 × 2 of type int\n",
       "\n",
       "| 1 |  6 |\n",
       "| 2 |  7 |\n",
       "| 3 |  8 |\n",
       "| 4 |  9 |\n",
       "| 5 | 10 |\n",
       "\n",
       "\n",
       "[[4]]\n",
       ":   1. 'one'\n",
       "2. 'two'\n",
       "3. 'three'\n",
       "\n",
       "\n",
       "\n",
       "\n",
       "\n"
      ],
      "text/plain": [
       "$title\n",
       "[1] \"My First List\"\n",
       "\n",
       "$ages\n",
       "[1] 25 26 18 39\n",
       "\n",
       "[[3]]\n",
       "     [,1] [,2]\n",
       "[1,]    1    6\n",
       "[2,]    2    7\n",
       "[3,]    3    8\n",
       "[4,]    4    9\n",
       "[5,]    5   10\n",
       "\n",
       "[[4]]\n",
       "[1] \"one\"   \"two\"   \"three\"\n"
      ]
     },
     "metadata": {},
     "output_type": "display_data"
    },
    {
     "name": "stdout",
     "output_type": "stream",
     "text": [
      "List of 4\n",
      " $ title: chr \"My First List\"\n",
      " $ ages : num [1:4] 25 26 18 39\n",
      " $      : int [1:5, 1:2] 1 2 3 4 5 6 7 8 9 10\n",
      " $      : chr [1:3] \"one\" \"two\" \"three\"\n"
     ]
    }
   ],
   "source": [
    "#2.2.6 列表\n",
    "#2-7 创建一个列表\n",
    "g <- \"My First List\"\n",
    "h <- c(25,26,18,39)\n",
    "j <- matrix(1:10,nrow = 5)\n",
    "k <- c(\"one\",\"two\",\"three\")\n",
    "mylist <- list(title = g,ages = h,j,k)#创建列表\n",
    "mylist# 输出整个列表\n",
    "str(mylist)"
   ]
  },
  {
   "cell_type": "code",
   "execution_count": 39,
   "id": "8c28389e",
   "metadata": {
    "ExecuteTime": {
     "end_time": "2022-04-27T03:46:53.258060Z",
     "start_time": "2022-04-27T03:46:53.237Z"
    }
   },
   "outputs": [
    {
     "data": {
      "text/html": [
       "<style>\n",
       ".list-inline {list-style: none; margin:0; padding: 0}\n",
       ".list-inline>li {display: inline-block}\n",
       ".list-inline>li:not(:last-child)::after {content: \"\\00b7\"; padding: 0 .5ex}\n",
       "</style>\n",
       "<ol class=list-inline><li>25</li><li>26</li><li>18</li><li>39</li></ol>\n"
      ],
      "text/latex": [
       "\\begin{enumerate*}\n",
       "\\item 25\n",
       "\\item 26\n",
       "\\item 18\n",
       "\\item 39\n",
       "\\end{enumerate*}\n"
      ],
      "text/markdown": [
       "1. 25\n",
       "2. 26\n",
       "3. 18\n",
       "4. 39\n",
       "\n",
       "\n"
      ],
      "text/plain": [
       "[1] 25 26 18 39"
      ]
     },
     "metadata": {},
     "output_type": "display_data"
    }
   ],
   "source": [
    "mylist[[2]]"
   ]
  },
  {
   "cell_type": "code",
   "execution_count": 40,
   "id": "04c08661",
   "metadata": {
    "ExecuteTime": {
     "end_time": "2022-04-27T03:47:01.839771Z",
     "start_time": "2022-04-27T03:47:01.819Z"
    }
   },
   "outputs": [
    {
     "data": {
      "text/html": [
       "<style>\n",
       ".list-inline {list-style: none; margin:0; padding: 0}\n",
       ".list-inline>li {display: inline-block}\n",
       ".list-inline>li:not(:last-child)::after {content: \"\\00b7\"; padding: 0 .5ex}\n",
       "</style>\n",
       "<ol class=list-inline><li>25</li><li>26</li><li>18</li><li>39</li></ol>\n"
      ],
      "text/latex": [
       "\\begin{enumerate*}\n",
       "\\item 25\n",
       "\\item 26\n",
       "\\item 18\n",
       "\\item 39\n",
       "\\end{enumerate*}\n"
      ],
      "text/markdown": [
       "1. 25\n",
       "2. 26\n",
       "3. 18\n",
       "4. 39\n",
       "\n",
       "\n"
      ],
      "text/plain": [
       "[1] 25 26 18 39"
      ]
     },
     "metadata": {},
     "output_type": "display_data"
    }
   ],
   "source": [
    "mylist[[\"ages\"]]"
   ]
  },
  {
   "cell_type": "code",
   "execution_count": 74,
   "id": "495a8b02",
   "metadata": {
    "ExecuteTime": {
     "end_time": "2022-04-27T06:13:03.069211Z",
     "start_time": "2022-04-27T06:13:03.051Z"
    },
    "scrolled": true
   },
   "outputs": [],
   "source": [
    "grades <- read.table(\"data/studentgrades.csv\",header = TRUE,\n",
    "                     row.names = \"StudentID\",sep = \",\")"
   ]
  },
  {
   "cell_type": "code",
   "execution_count": 75,
   "id": "98e313ef",
   "metadata": {
    "ExecuteTime": {
     "end_time": "2022-04-27T06:13:03.606188Z",
     "start_time": "2022-04-27T06:13:03.588Z"
    }
   },
   "outputs": [],
   "source": [
    "grades <- read.csv(\"data/studentgrades.csv\",header = TRUE,\n",
    "                    row.names = \"StudentID\", sep = \",\")"
   ]
  },
  {
   "cell_type": "code",
   "execution_count": 76,
   "id": "24968e16",
   "metadata": {
    "ExecuteTime": {
     "end_time": "2022-04-27T06:13:04.038757Z",
     "start_time": "2022-04-27T06:13:04.014Z"
    }
   },
   "outputs": [
    {
     "data": {
      "text/html": [
       "<table class=\"dataframe\">\n",
       "<caption>A data.frame: 4 × 5</caption>\n",
       "<thead>\n",
       "\t<tr><th></th><th scope=col>First</th><th scope=col>Last</th><th scope=col>Math</th><th scope=col>Science</th><th scope=col>Social.Studies</th></tr>\n",
       "\t<tr><th></th><th scope=col>&lt;chr&gt;</th><th scope=col>&lt;chr&gt;</th><th scope=col>&lt;int&gt;</th><th scope=col>&lt;int&gt;</th><th scope=col>&lt;int&gt;</th></tr>\n",
       "</thead>\n",
       "<tbody>\n",
       "\t<tr><th scope=row>11</th><td>Bob </td><td>Smith       </td><td>90</td><td>80</td><td>67</td></tr>\n",
       "\t<tr><th scope=row>12</th><td>Jane</td><td>Weary       </td><td>75</td><td>NA</td><td>80</td></tr>\n",
       "\t<tr><th scope=row>10</th><td>Dan </td><td>Thornton,III</td><td>65</td><td>75</td><td>70</td></tr>\n",
       "\t<tr><th scope=row>40</th><td>Mary</td><td>O'Leary     </td><td>90</td><td>95</td><td>92</td></tr>\n",
       "</tbody>\n",
       "</table>\n"
      ],
      "text/latex": [
       "A data.frame: 4 × 5\n",
       "\\begin{tabular}{r|lllll}\n",
       "  & First & Last & Math & Science & Social.Studies\\\\\n",
       "  & <chr> & <chr> & <int> & <int> & <int>\\\\\n",
       "\\hline\n",
       "\t11 & Bob  & Smith        & 90 & 80 & 67\\\\\n",
       "\t12 & Jane & Weary        & 75 & NA & 80\\\\\n",
       "\t10 & Dan  & Thornton,III & 65 & 75 & 70\\\\\n",
       "\t40 & Mary & O'Leary      & 90 & 95 & 92\\\\\n",
       "\\end{tabular}\n"
      ],
      "text/markdown": [
       "\n",
       "A data.frame: 4 × 5\n",
       "\n",
       "| <!--/--> | First &lt;chr&gt; | Last &lt;chr&gt; | Math &lt;int&gt; | Science &lt;int&gt; | Social.Studies &lt;int&gt; |\n",
       "|---|---|---|---|---|---|\n",
       "| 11 | Bob  | Smith        | 90 | 80 | 67 |\n",
       "| 12 | Jane | Weary        | 75 | NA | 80 |\n",
       "| 10 | Dan  | Thornton,III | 65 | 75 | 70 |\n",
       "| 40 | Mary | O'Leary      | 90 | 95 | 92 |\n",
       "\n"
      ],
      "text/plain": [
       "   First Last         Math Science Social.Studies\n",
       "11 Bob   Smith        90   80      67            \n",
       "12 Jane  Weary        75   NA      80            \n",
       "10 Dan   Thornton,III 65   75      70            \n",
       "40 Mary  O'Leary      90   95      92            "
      ]
     },
     "metadata": {},
     "output_type": "display_data"
    }
   ],
   "source": [
    "grades"
   ]
  },
  {
   "cell_type": "code",
   "execution_count": null,
   "id": "7d5e82af",
   "metadata": {},
   "outputs": [],
   "source": []
  }
 ],
 "metadata": {
  "hide_input": false,
  "kernelspec": {
   "display_name": "R",
   "language": "R",
   "name": "ir"
  },
  "language_info": {
   "codemirror_mode": "r",
   "file_extension": ".r",
   "mimetype": "text/x-r-source",
   "name": "R",
   "pygments_lexer": "r",
   "version": "4.2.0"
  },
  "toc": {
   "base_numbering": 1,
   "nav_menu": {},
   "number_sections": true,
   "sideBar": true,
   "skip_h1_title": false,
   "title_cell": "Table of Contents",
   "title_sidebar": "Contents",
   "toc_cell": false,
   "toc_position": {},
   "toc_section_display": true,
   "toc_window_display": false
  },
  "varInspector": {
   "cols": {
    "lenName": 16,
    "lenType": 16,
    "lenVar": 40
   },
   "kernels_config": {
    "python": {
     "delete_cmd_postfix": "",
     "delete_cmd_prefix": "del ",
     "library": "var_list.py",
     "varRefreshCmd": "print(var_dic_list())"
    },
    "r": {
     "delete_cmd_postfix": ") ",
     "delete_cmd_prefix": "rm(",
     "library": "var_list.r",
     "varRefreshCmd": "cat(var_dic_list()) "
    }
   },
   "types_to_exclude": [
    "module",
    "function",
    "builtin_function_or_method",
    "instance",
    "_Feature"
   ],
   "window_display": false
  }
 },
 "nbformat": 4,
 "nbformat_minor": 5
}
