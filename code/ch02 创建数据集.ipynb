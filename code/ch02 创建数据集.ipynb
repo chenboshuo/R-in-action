{
 "cells": [
  {
   "cell_type": "code",
   "execution_count": 1,
   "id": "3bf2ab27",
   "metadata": {
    "ExecuteTime": {
     "end_time": "2022-04-25T16:23:08.866566Z",
     "start_time": "2022-04-25T16:23:08.842Z"
    }
   },
   "outputs": [],
   "source": [
    "# 2.2.1 向量\n",
    "a <- c(1,2,5,3,6,-2,4)#数值型\n",
    "b <- c(\"one\",\"two\",\"three\")#字符型\n",
    "c <- c(TRUE,TRUE,TRUE,FALSE,TRUE,TRUE,FALSE)#逻辑型"
   ]
  },
  {
   "cell_type": "code",
   "execution_count": 9,
   "id": "0a913ae4",
   "metadata": {
    "ExecuteTime": {
     "end_time": "2022-04-25T16:25:31.736804Z",
     "start_time": "2022-04-25T16:25:31.691Z"
    }
   },
   "outputs": [
    {
     "data": {
      "text/html": [
       "'h'"
      ],
      "text/latex": [
       "'h'"
      ],
      "text/markdown": [
       "'h'"
      ],
      "text/plain": [
       "[1] \"h\""
      ]
     },
     "metadata": {},
     "output_type": "display_data"
    },
    {
     "data": {
      "text/html": [
       "<style>\n",
       ".list-inline {list-style: none; margin:0; padding: 0}\n",
       ".list-inline>li {display: inline-block}\n",
       ".list-inline>li:not(:last-child)::after {content: \"\\00b7\"; padding: 0 .5ex}\n",
       "</style>\n",
       "<ol class=list-inline><li>'k'</li><li>'j'</li><li>'h'</li></ol>\n"
      ],
      "text/latex": [
       "\\begin{enumerate*}\n",
       "\\item 'k'\n",
       "\\item 'j'\n",
       "\\item 'h'\n",
       "\\end{enumerate*}\n"
      ],
      "text/markdown": [
       "1. 'k'\n",
       "2. 'j'\n",
       "3. 'h'\n",
       "\n",
       "\n"
      ],
      "text/plain": [
       "[1] \"k\" \"j\" \"h\""
      ]
     },
     "metadata": {},
     "output_type": "display_data"
    },
    {
     "data": {
      "text/html": [
       "'c'"
      ],
      "text/latex": [
       "'c'"
      ],
      "text/markdown": [
       "'c'"
      ],
      "text/plain": [
       "[1] \"c\""
      ]
     },
     "metadata": {},
     "output_type": "display_data"
    },
    {
     "data": {
      "text/html": [
       "<style>\n",
       ".list-inline {list-style: none; margin:0; padding: 0}\n",
       ".list-inline>li {display: inline-block}\n",
       ".list-inline>li:not(:last-child)::after {content: \"\\00b7\"; padding: 0 .5ex}\n",
       "</style>\n",
       "<ol class=list-inline><li>'k'</li><li>'h'</li><li>'c'</li></ol>\n"
      ],
      "text/latex": [
       "\\begin{enumerate*}\n",
       "\\item 'k'\n",
       "\\item 'h'\n",
       "\\item 'c'\n",
       "\\end{enumerate*}\n"
      ],
      "text/markdown": [
       "1. 'k'\n",
       "2. 'h'\n",
       "3. 'c'\n",
       "\n",
       "\n"
      ],
      "text/plain": [
       "[1] \"k\" \"h\" \"c\""
      ]
     },
     "metadata": {},
     "output_type": "display_data"
    }
   ],
   "source": [
    "a <- c(\"k\",\"j\",\"h\",\"a\",\"c\",\"m\")\n",
    "a[3]#提取第三个\n",
    "a[1:3]#提取1：3\n",
    "a[5]\n",
    "a[c(1,3,5)]# 提取1,3,5号位置"
   ]
  },
  {
   "cell_type": "code",
   "execution_count": null,
   "id": "2c0696d7",
   "metadata": {},
   "outputs": [],
   "source": [
    "# 2.2.2 矩阵\n"
   ]
  }
 ],
 "metadata": {
  "hide_input": false,
  "kernelspec": {
   "display_name": "R",
   "language": "R",
   "name": "ir"
  },
  "language_info": {
   "codemirror_mode": "r",
   "file_extension": ".r",
   "mimetype": "text/x-r-source",
   "name": "R",
   "pygments_lexer": "r",
   "version": "4.2.0"
  },
  "toc": {
   "base_numbering": 1,
   "nav_menu": {},
   "number_sections": true,
   "sideBar": true,
   "skip_h1_title": false,
   "title_cell": "Table of Contents",
   "title_sidebar": "Contents",
   "toc_cell": false,
   "toc_position": {},
   "toc_section_display": true,
   "toc_window_display": false
  },
  "varInspector": {
   "cols": {
    "lenName": 16,
    "lenType": 16,
    "lenVar": 40
   },
   "kernels_config": {
    "python": {
     "delete_cmd_postfix": "",
     "delete_cmd_prefix": "del ",
     "library": "var_list.py",
     "varRefreshCmd": "print(var_dic_list())"
    },
    "r": {
     "delete_cmd_postfix": ") ",
     "delete_cmd_prefix": "rm(",
     "library": "var_list.r",
     "varRefreshCmd": "cat(var_dic_list()) "
    }
   },
   "types_to_exclude": [
    "module",
    "function",
    "builtin_function_or_method",
    "instance",
    "_Feature"
   ],
   "window_display": false
  }
 },
 "nbformat": 4,
 "nbformat_minor": 5
}
