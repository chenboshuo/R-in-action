{
 "cells": [
  {
   "cell_type": "code",
   "execution_count": 5,
   "id": "8fdbba0e",
   "metadata": {
    "ExecuteTime": {
     "end_time": "2022-04-25T16:10:11.985908Z",
     "start_time": "2022-04-25T16:10:11.926Z"
    }
   },
   "outputs": [
    {
     "data": {
      "text/html": [
       "7.06"
      ],
      "text/latex": [
       "7.06"
      ],
      "text/markdown": [
       "7.06"
      ],
      "text/plain": [
       "[1] 7.06"
      ]
     },
     "metadata": {},
     "output_type": "display_data"
    },
    {
     "data": {
      "text/html": [
       "2.07749849578766"
      ],
      "text/latex": [
       "2.07749849578766"
      ],
      "text/markdown": [
       "2.07749849578766"
      ],
      "text/plain": [
       "[1] 2.077498"
      ]
     },
     "metadata": {},
     "output_type": "display_data"
    },
    {
     "data": {
      "text/html": [
       "0.907565543895256"
      ],
      "text/latex": [
       "0.907565543895256"
      ],
      "text/markdown": [
       "0.907565543895256"
      ],
      "text/plain": [
       "[1] 0.9075655"
      ]
     },
     "metadata": {},
     "output_type": "display_data"
    },
    {
     "data": {
      "image/png": "[encoded data removed]",
      "text/plain": [
       "plot without title"
      ]
     },
     "metadata": {
      "image/png": {
       "height": 420,
       "width": 420
      }
     },
     "output_type": "display_data"
    }
   ],
   "source": [
    "#1-1 R 示例\n",
    "age <- c(1,3,5,2,11,9,3,9,12,3)\n",
    "weight <- c(4.4,5.3,7.2,5.2,8.5,7.3,6.0,10.4,10.2,6.1)\n",
    "mean(weight)\n",
    "sd(weight)\n",
    "cor(age,weight)\n",
    "plot(age,weight)"
   ]
  },
  {
   "cell_type": "code",
   "execution_count": 16,
   "id": "ab677f25",
   "metadata": {
    "ExecuteTime": {
     "end_time": "2022-04-25T16:16:42.588566Z",
     "start_time": "2022-04-25T16:16:42.528Z"
    }
   },
   "outputs": [
    {
     "data": {
      "text/html": [
       "'E:/git/R-in-action/code'"
      ],
      "text/latex": [
       "'E:/git/R-in-action/code'"
      ],
      "text/markdown": [
       "'E:/git/R-in-action/code'"
      ],
      "text/plain": [
       "[1] \"E:/git/R-in-action/code\""
      ]
     },
     "metadata": {},
     "output_type": "display_data"
    },
    {
     "data": {
      "text/plain": [
       "   Min. 1st Qu.  Median    Mean 3rd Qu.    Max. \n",
       "  0.019   0.176   0.527   0.481   0.775   0.994 "
      ]
     },
     "metadata": {},
     "output_type": "display_data"
    },
    {
     "data": {
      "image/png": "[encoded data removed]",
      "text/plain": [
       "Plot with title \"Histogram of x\""
      ]
     },
     "metadata": {
      "image/png": {
       "height": 420,
       "width": 420
      }
     },
     "output_type": "display_data"
    }
   ],
   "source": [
    "# 1-2 管理R工作空间的命令使用示例\n",
    "#setwd(\"\") 修改工作空间目录\n",
    "getwd()# 显示当前工作目录\n",
    "options(digits = 3)#1 options(digits)函数,通过options(digits)函数设置输出长度，当digits=3时：输出长度为3\n",
    "x <- runif(20)\n",
    "summary(x)\n",
    "hist(x)"
   ]
  },
  {
   "cell_type": "code",
   "execution_count": 18,
   "id": "5b6b8915",
   "metadata": {
    "ExecuteTime": {
     "end_time": "2022-04-25T16:21:00.098644Z",
     "start_time": "2022-04-25T16:20:54.049Z"
    },
    "scrolled": false
   },
   "outputs": [
    {
     "name": "stdout",
     "output_type": "stream",
     "text": [
      "If nothing happens, you should open\n",
      "'http://127.0.0.1:13739/doc/html/index.html' yourself\n",
      "package 'vcd' successfully unpacked and MD5 sums checked\n",
      "\n",
      "The downloaded binary packages are in\n",
      "\tC:\\Users\\Administrator\\AppData\\Local\\Temp\\RtmpQP5RM1\\downloaded_packages\n"
     ]
    },
    {
     "name": "stderr",
     "output_type": "stream",
     "text": [
      "Loading required package: grid\n",
      "\n"
     ]
    },
    {
     "data": {
      "text/html": [
       "<table class=\"dataframe\">\n",
       "<caption>A data.frame: 84 × 5</caption>\n",
       "<thead>\n",
       "\t<tr><th></th><th scope=col>ID</th><th scope=col>Treatment</th><th scope=col>Sex</th><th scope=col>Age</th><th scope=col>Improved</th></tr>\n",
       "\t<tr><th></th><th scope=col>&lt;int&gt;</th><th scope=col>&lt;fct&gt;</th><th scope=col>&lt;fct&gt;</th><th scope=col>&lt;int&gt;</th><th scope=col>&lt;ord&gt;</th></tr>\n",
       "</thead>\n",
       "<tbody>\n",
       "\t<tr><th scope=row>1</th><td>57</td><td>Treated</td><td>Male  </td><td>27</td><td>Some  </td></tr>\n",
       "\t<tr><th scope=row>2</th><td>46</td><td>Treated</td><td>Male  </td><td>29</td><td>None  </td></tr>\n",
       "\t<tr><th scope=row>3</th><td>77</td><td>Treated</td><td>Male  </td><td>30</td><td>None  </td></tr>\n",
       "\t<tr><th scope=row>4</th><td>17</td><td>Treated</td><td>Male  </td><td>32</td><td>Marked</td></tr>\n",
       "\t<tr><th scope=row>5</th><td>36</td><td>Treated</td><td>Male  </td><td>46</td><td>Marked</td></tr>\n",
       "\t<tr><th scope=row>6</th><td>23</td><td>Treated</td><td>Male  </td><td>58</td><td>Marked</td></tr>\n",
       "\t<tr><th scope=row>7</th><td>75</td><td>Treated</td><td>Male  </td><td>59</td><td>None  </td></tr>\n",
       "\t<tr><th scope=row>8</th><td>39</td><td>Treated</td><td>Male  </td><td>59</td><td>Marked</td></tr>\n",
       "\t<tr><th scope=row>9</th><td>33</td><td>Treated</td><td>Male  </td><td>63</td><td>None  </td></tr>\n",
       "\t<tr><th scope=row>10</th><td>55</td><td>Treated</td><td>Male  </td><td>63</td><td>None  </td></tr>\n",
       "\t<tr><th scope=row>11</th><td>30</td><td>Treated</td><td>Male  </td><td>64</td><td>None  </td></tr>\n",
       "\t<tr><th scope=row>12</th><td> 5</td><td>Treated</td><td>Male  </td><td>64</td><td>Some  </td></tr>\n",
       "\t<tr><th scope=row>13</th><td>63</td><td>Treated</td><td>Male  </td><td>69</td><td>None  </td></tr>\n",
       "\t<tr><th scope=row>14</th><td>83</td><td>Treated</td><td>Male  </td><td>70</td><td>Marked</td></tr>\n",
       "\t<tr><th scope=row>15</th><td>66</td><td>Treated</td><td>Female</td><td>23</td><td>None  </td></tr>\n",
       "\t<tr><th scope=row>16</th><td>40</td><td>Treated</td><td>Female</td><td>32</td><td>None  </td></tr>\n",
       "\t<tr><th scope=row>17</th><td> 6</td><td>Treated</td><td>Female</td><td>37</td><td>Some  </td></tr>\n",
       "\t<tr><th scope=row>18</th><td> 7</td><td>Treated</td><td>Female</td><td>41</td><td>None  </td></tr>\n",
       "\t<tr><th scope=row>19</th><td>72</td><td>Treated</td><td>Female</td><td>41</td><td>Marked</td></tr>\n",
       "\t<tr><th scope=row>20</th><td>37</td><td>Treated</td><td>Female</td><td>48</td><td>None  </td></tr>\n",
       "\t<tr><th scope=row>21</th><td>82</td><td>Treated</td><td>Female</td><td>48</td><td>Marked</td></tr>\n",
       "\t<tr><th scope=row>22</th><td>53</td><td>Treated</td><td>Female</td><td>55</td><td>Marked</td></tr>\n",
       "\t<tr><th scope=row>23</th><td>79</td><td>Treated</td><td>Female</td><td>55</td><td>Marked</td></tr>\n",
       "\t<tr><th scope=row>24</th><td>26</td><td>Treated</td><td>Female</td><td>56</td><td>Marked</td></tr>\n",
       "\t<tr><th scope=row>25</th><td>28</td><td>Treated</td><td>Female</td><td>57</td><td>Marked</td></tr>\n",
       "\t<tr><th scope=row>26</th><td>60</td><td>Treated</td><td>Female</td><td>57</td><td>Marked</td></tr>\n",
       "\t<tr><th scope=row>27</th><td>22</td><td>Treated</td><td>Female</td><td>57</td><td>Marked</td></tr>\n",
       "\t<tr><th scope=row>28</th><td>27</td><td>Treated</td><td>Female</td><td>58</td><td>None  </td></tr>\n",
       "\t<tr><th scope=row>29</th><td> 2</td><td>Treated</td><td>Female</td><td>59</td><td>Marked</td></tr>\n",
       "\t<tr><th scope=row>30</th><td>59</td><td>Treated</td><td>Female</td><td>59</td><td>Marked</td></tr>\n",
       "\t<tr><th scope=row>⋮</th><td>⋮</td><td>⋮</td><td>⋮</td><td>⋮</td><td>⋮</td></tr>\n",
       "\t<tr><th scope=row>55</th><td>29</td><td>Placebo</td><td>Female</td><td>30</td><td>None  </td></tr>\n",
       "\t<tr><th scope=row>56</th><td>50</td><td>Placebo</td><td>Female</td><td>31</td><td>Some  </td></tr>\n",
       "\t<tr><th scope=row>57</th><td>38</td><td>Placebo</td><td>Female</td><td>32</td><td>None  </td></tr>\n",
       "\t<tr><th scope=row>58</th><td>35</td><td>Placebo</td><td>Female</td><td>33</td><td>Marked</td></tr>\n",
       "\t<tr><th scope=row>59</th><td>51</td><td>Placebo</td><td>Female</td><td>37</td><td>None  </td></tr>\n",
       "\t<tr><th scope=row>60</th><td>54</td><td>Placebo</td><td>Female</td><td>44</td><td>None  </td></tr>\n",
       "\t<tr><th scope=row>61</th><td>76</td><td>Placebo</td><td>Female</td><td>45</td><td>None  </td></tr>\n",
       "\t<tr><th scope=row>62</th><td>16</td><td>Placebo</td><td>Female</td><td>46</td><td>None  </td></tr>\n",
       "\t<tr><th scope=row>63</th><td>69</td><td>Placebo</td><td>Female</td><td>48</td><td>None  </td></tr>\n",
       "\t<tr><th scope=row>64</th><td>31</td><td>Placebo</td><td>Female</td><td>49</td><td>None  </td></tr>\n",
       "\t<tr><th scope=row>65</th><td>20</td><td>Placebo</td><td>Female</td><td>51</td><td>None  </td></tr>\n",
       "\t<tr><th scope=row>66</th><td>68</td><td>Placebo</td><td>Female</td><td>53</td><td>None  </td></tr>\n",
       "\t<tr><th scope=row>67</th><td>81</td><td>Placebo</td><td>Female</td><td>54</td><td>None  </td></tr>\n",
       "\t<tr><th scope=row>68</th><td> 4</td><td>Placebo</td><td>Female</td><td>54</td><td>None  </td></tr>\n",
       "\t<tr><th scope=row>69</th><td>78</td><td>Placebo</td><td>Female</td><td>54</td><td>Marked</td></tr>\n",
       "\t<tr><th scope=row>70</th><td>70</td><td>Placebo</td><td>Female</td><td>55</td><td>Marked</td></tr>\n",
       "\t<tr><th scope=row>71</th><td>49</td><td>Placebo</td><td>Female</td><td>57</td><td>None  </td></tr>\n",
       "\t<tr><th scope=row>72</th><td>10</td><td>Placebo</td><td>Female</td><td>57</td><td>Some  </td></tr>\n",
       "\t<tr><th scope=row>73</th><td>47</td><td>Placebo</td><td>Female</td><td>58</td><td>Some  </td></tr>\n",
       "\t<tr><th scope=row>74</th><td>44</td><td>Placebo</td><td>Female</td><td>59</td><td>Some  </td></tr>\n",
       "\t<tr><th scope=row>75</th><td>24</td><td>Placebo</td><td>Female</td><td>59</td><td>Marked</td></tr>\n",
       "\t<tr><th scope=row>76</th><td>48</td><td>Placebo</td><td>Female</td><td>61</td><td>None  </td></tr>\n",
       "\t<tr><th scope=row>77</th><td>19</td><td>Placebo</td><td>Female</td><td>63</td><td>Some  </td></tr>\n",
       "\t<tr><th scope=row>78</th><td> 3</td><td>Placebo</td><td>Female</td><td>64</td><td>None  </td></tr>\n",
       "\t<tr><th scope=row>79</th><td>67</td><td>Placebo</td><td>Female</td><td>65</td><td>Marked</td></tr>\n",
       "\t<tr><th scope=row>80</th><td>32</td><td>Placebo</td><td>Female</td><td>66</td><td>None  </td></tr>\n",
       "\t<tr><th scope=row>81</th><td>42</td><td>Placebo</td><td>Female</td><td>66</td><td>None  </td></tr>\n",
       "\t<tr><th scope=row>82</th><td>15</td><td>Placebo</td><td>Female</td><td>66</td><td>Some  </td></tr>\n",
       "\t<tr><th scope=row>83</th><td>71</td><td>Placebo</td><td>Female</td><td>68</td><td>Some  </td></tr>\n",
       "\t<tr><th scope=row>84</th><td> 1</td><td>Placebo</td><td>Female</td><td>74</td><td>Marked</td></tr>\n",
       "</tbody>\n",
       "</table>\n"
      ],
      "text/latex": [
       "A data.frame: 84 × 5\n",
       "\\begin{tabular}{r|lllll}\n",
       "  & ID & Treatment & Sex & Age & Improved\\\\\n",
       "  & <int> & <fct> & <fct> & <int> & <ord>\\\\\n",
       "\\hline\n",
       "\t1 & 57 & Treated & Male   & 27 & Some  \\\\\n",
       "\t2 & 46 & Treated & Male   & 29 & None  \\\\\n",
       "\t3 & 77 & Treated & Male   & 30 & None  \\\\\n",
       "\t4 & 17 & Treated & Male   & 32 & Marked\\\\\n",
       "\t5 & 36 & Treated & Male   & 46 & Marked\\\\\n",
       "\t6 & 23 & Treated & Male   & 58 & Marked\\\\\n",
       "\t7 & 75 & Treated & Male   & 59 & None  \\\\\n",
       "\t8 & 39 & Treated & Male   & 59 & Marked\\\\\n",
       "\t9 & 33 & Treated & Male   & 63 & None  \\\\\n",
       "\t10 & 55 & Treated & Male   & 63 & None  \\\\\n",
       "\t11 & 30 & Treated & Male   & 64 & None  \\\\\n",
       "\t12 &  5 & Treated & Male   & 64 & Some  \\\\\n",
       "\t13 & 63 & Treated & Male   & 69 & None  \\\\\n",
       "\t14 & 83 & Treated & Male   & 70 & Marked\\\\\n",
       "\t15 & 66 & Treated & Female & 23 & None  \\\\\n",
       "\t16 & 40 & Treated & Female & 32 & None  \\\\\n",
       "\t17 &  6 & Treated & Female & 37 & Some  \\\\\n",
       "\t18 &  7 & Treated & Female & 41 & None  \\\\\n",
       "\t19 & 72 & Treated & Female & 41 & Marked\\\\\n",
       "\t20 & 37 & Treated & Female & 48 & None  \\\\\n",
       "\t21 & 82 & Treated & Female & 48 & Marked\\\\\n",
       "\t22 & 53 & Treated & Female & 55 & Marked\\\\\n",
       "\t23 & 79 & Treated & Female & 55 & Marked\\\\\n",
       "\t24 & 26 & Treated & Female & 56 & Marked\\\\\n",
       "\t25 & 28 & Treated & Female & 57 & Marked\\\\\n",
       "\t26 & 60 & Treated & Female & 57 & Marked\\\\\n",
       "\t27 & 22 & Treated & Female & 57 & Marked\\\\\n",
       "\t28 & 27 & Treated & Female & 58 & None  \\\\\n",
       "\t29 &  2 & Treated & Female & 59 & Marked\\\\\n",
       "\t30 & 59 & Treated & Female & 59 & Marked\\\\\n",
       "\t⋮ & ⋮ & ⋮ & ⋮ & ⋮ & ⋮\\\\\n",
       "\t55 & 29 & Placebo & Female & 30 & None  \\\\\n",
       "\t56 & 50 & Placebo & Female & 31 & Some  \\\\\n",
       "\t57 & 38 & Placebo & Female & 32 & None  \\\\\n",
       "\t58 & 35 & Placebo & Female & 33 & Marked\\\\\n",
       "\t59 & 51 & Placebo & Female & 37 & None  \\\\\n",
       "\t60 & 54 & Placebo & Female & 44 & None  \\\\\n",
       "\t61 & 76 & Placebo & Female & 45 & None  \\\\\n",
       "\t62 & 16 & Placebo & Female & 46 & None  \\\\\n",
       "\t63 & 69 & Placebo & Female & 48 & None  \\\\\n",
       "\t64 & 31 & Placebo & Female & 49 & None  \\\\\n",
       "\t65 & 20 & Placebo & Female & 51 & None  \\\\\n",
       "\t66 & 68 & Placebo & Female & 53 & None  \\\\\n",
       "\t67 & 81 & Placebo & Female & 54 & None  \\\\\n",
       "\t68 &  4 & Placebo & Female & 54 & None  \\\\\n",
       "\t69 & 78 & Placebo & Female & 54 & Marked\\\\\n",
       "\t70 & 70 & Placebo & Female & 55 & Marked\\\\\n",
       "\t71 & 49 & Placebo & Female & 57 & None  \\\\\n",
       "\t72 & 10 & Placebo & Female & 57 & Some  \\\\\n",
       "\t73 & 47 & Placebo & Female & 58 & Some  \\\\\n",
       "\t74 & 44 & Placebo & Female & 59 & Some  \\\\\n",
       "\t75 & 24 & Placebo & Female & 59 & Marked\\\\\n",
       "\t76 & 48 & Placebo & Female & 61 & None  \\\\\n",
       "\t77 & 19 & Placebo & Female & 63 & Some  \\\\\n",
       "\t78 &  3 & Placebo & Female & 64 & None  \\\\\n",
       "\t79 & 67 & Placebo & Female & 65 & Marked\\\\\n",
       "\t80 & 32 & Placebo & Female & 66 & None  \\\\\n",
       "\t81 & 42 & Placebo & Female & 66 & None  \\\\\n",
       "\t82 & 15 & Placebo & Female & 66 & Some  \\\\\n",
       "\t83 & 71 & Placebo & Female & 68 & Some  \\\\\n",
       "\t84 &  1 & Placebo & Female & 74 & Marked\\\\\n",
       "\\end{tabular}\n"
      ],
      "text/markdown": [
       "\n",
       "A data.frame: 84 × 5\n",
       "\n",
       "| <!--/--> | ID &lt;int&gt; | Treatment &lt;fct&gt; | Sex &lt;fct&gt; | Age &lt;int&gt; | Improved &lt;ord&gt; |\n",
       "|---|---|---|---|---|---|\n",
       "| 1 | 57 | Treated | Male   | 27 | Some   |\n",
       "| 2 | 46 | Treated | Male   | 29 | None   |\n",
       "| 3 | 77 | Treated | Male   | 30 | None   |\n",
       "| 4 | 17 | Treated | Male   | 32 | Marked |\n",
       "| 5 | 36 | Treated | Male   | 46 | Marked |\n",
       "| 6 | 23 | Treated | Male   | 58 | Marked |\n",
       "| 7 | 75 | Treated | Male   | 59 | None   |\n",
       "| 8 | 39 | Treated | Male   | 59 | Marked |\n",
       "| 9 | 33 | Treated | Male   | 63 | None   |\n",
       "| 10 | 55 | Treated | Male   | 63 | None   |\n",
       "| 11 | 30 | Treated | Male   | 64 | None   |\n",
       "| 12 |  5 | Treated | Male   | 64 | Some   |\n",
       "| 13 | 63 | Treated | Male   | 69 | None   |\n",
       "| 14 | 83 | Treated | Male   | 70 | Marked |\n",
       "| 15 | 66 | Treated | Female | 23 | None   |\n",
       "| 16 | 40 | Treated | Female | 32 | None   |\n",
       "| 17 |  6 | Treated | Female | 37 | Some   |\n",
       "| 18 |  7 | Treated | Female | 41 | None   |\n",
       "| 19 | 72 | Treated | Female | 41 | Marked |\n",
       "| 20 | 37 | Treated | Female | 48 | None   |\n",
       "| 21 | 82 | Treated | Female | 48 | Marked |\n",
       "| 22 | 53 | Treated | Female | 55 | Marked |\n",
       "| 23 | 79 | Treated | Female | 55 | Marked |\n",
       "| 24 | 26 | Treated | Female | 56 | Marked |\n",
       "| 25 | 28 | Treated | Female | 57 | Marked |\n",
       "| 26 | 60 | Treated | Female | 57 | Marked |\n",
       "| 27 | 22 | Treated | Female | 57 | Marked |\n",
       "| 28 | 27 | Treated | Female | 58 | None   |\n",
       "| 29 |  2 | Treated | Female | 59 | Marked |\n",
       "| 30 | 59 | Treated | Female | 59 | Marked |\n",
       "| ⋮ | ⋮ | ⋮ | ⋮ | ⋮ | ⋮ |\n",
       "| 55 | 29 | Placebo | Female | 30 | None   |\n",
       "| 56 | 50 | Placebo | Female | 31 | Some   |\n",
       "| 57 | 38 | Placebo | Female | 32 | None   |\n",
       "| 58 | 35 | Placebo | Female | 33 | Marked |\n",
       "| 59 | 51 | Placebo | Female | 37 | None   |\n",
       "| 60 | 54 | Placebo | Female | 44 | None   |\n",
       "| 61 | 76 | Placebo | Female | 45 | None   |\n",
       "| 62 | 16 | Placebo | Female | 46 | None   |\n",
       "| 63 | 69 | Placebo | Female | 48 | None   |\n",
       "| 64 | 31 | Placebo | Female | 49 | None   |\n",
       "| 65 | 20 | Placebo | Female | 51 | None   |\n",
       "| 66 | 68 | Placebo | Female | 53 | None   |\n",
       "| 67 | 81 | Placebo | Female | 54 | None   |\n",
       "| 68 |  4 | Placebo | Female | 54 | None   |\n",
       "| 69 | 78 | Placebo | Female | 54 | Marked |\n",
       "| 70 | 70 | Placebo | Female | 55 | Marked |\n",
       "| 71 | 49 | Placebo | Female | 57 | None   |\n",
       "| 72 | 10 | Placebo | Female | 57 | Some   |\n",
       "| 73 | 47 | Placebo | Female | 58 | Some   |\n",
       "| 74 | 44 | Placebo | Female | 59 | Some   |\n",
       "| 75 | 24 | Placebo | Female | 59 | Marked |\n",
       "| 76 | 48 | Placebo | Female | 61 | None   |\n",
       "| 77 | 19 | Placebo | Female | 63 | Some   |\n",
       "| 78 |  3 | Placebo | Female | 64 | None   |\n",
       "| 79 | 67 | Placebo | Female | 65 | Marked |\n",
       "| 80 | 32 | Placebo | Female | 66 | None   |\n",
       "| 81 | 42 | Placebo | Female | 66 | None   |\n",
       "| 82 | 15 | Placebo | Female | 66 | Some   |\n",
       "| 83 | 71 | Placebo | Female | 68 | Some   |\n",
       "| 84 |  1 | Placebo | Female | 74 | Marked |\n",
       "\n"
      ],
      "text/plain": [
       "   ID Treatment Sex    Age Improved\n",
       "1  57 Treated   Male   27  Some    \n",
       "2  46 Treated   Male   29  None    \n",
       "3  77 Treated   Male   30  None    \n",
       "4  17 Treated   Male   32  Marked  \n",
       "5  36 Treated   Male   46  Marked  \n",
       "6  23 Treated   Male   58  Marked  \n",
       "7  75 Treated   Male   59  None    \n",
       "8  39 Treated   Male   59  Marked  \n",
       "9  33 Treated   Male   63  None    \n",
       "10 55 Treated   Male   63  None    \n",
       "11 30 Treated   Male   64  None    \n",
       "12  5 Treated   Male   64  Some    \n",
       "13 63 Treated   Male   69  None    \n",
       "14 83 Treated   Male   70  Marked  \n",
       "15 66 Treated   Female 23  None    \n",
       "16 40 Treated   Female 32  None    \n",
       "17  6 Treated   Female 37  Some    \n",
       "18  7 Treated   Female 41  None    \n",
       "19 72 Treated   Female 41  Marked  \n",
       "20 37 Treated   Female 48  None    \n",
       "21 82 Treated   Female 48  Marked  \n",
       "22 53 Treated   Female 55  Marked  \n",
       "23 79 Treated   Female 55  Marked  \n",
       "24 26 Treated   Female 56  Marked  \n",
       "25 28 Treated   Female 57  Marked  \n",
       "26 60 Treated   Female 57  Marked  \n",
       "27 22 Treated   Female 57  Marked  \n",
       "28 27 Treated   Female 58  None    \n",
       "29  2 Treated   Female 59  Marked  \n",
       "30 59 Treated   Female 59  Marked  \n",
       "⋮  ⋮  ⋮         ⋮      ⋮   ⋮       \n",
       "55 29 Placebo   Female 30  None    \n",
       "56 50 Placebo   Female 31  Some    \n",
       "57 38 Placebo   Female 32  None    \n",
       "58 35 Placebo   Female 33  Marked  \n",
       "59 51 Placebo   Female 37  None    \n",
       "60 54 Placebo   Female 44  None    \n",
       "61 76 Placebo   Female 45  None    \n",
       "62 16 Placebo   Female 46  None    \n",
       "63 69 Placebo   Female 48  None    \n",
       "64 31 Placebo   Female 49  None    \n",
       "65 20 Placebo   Female 51  None    \n",
       "66 68 Placebo   Female 53  None    \n",
       "67 81 Placebo   Female 54  None    \n",
       "68  4 Placebo   Female 54  None    \n",
       "69 78 Placebo   Female 54  Marked  \n",
       "70 70 Placebo   Female 55  Marked  \n",
       "71 49 Placebo   Female 57  None    \n",
       "72 10 Placebo   Female 57  Some    \n",
       "73 47 Placebo   Female 58  Some    \n",
       "74 44 Placebo   Female 59  Some    \n",
       "75 24 Placebo   Female 59  Marked  \n",
       "76 48 Placebo   Female 61  None    \n",
       "77 19 Placebo   Female 63  Some    \n",
       "78  3 Placebo   Female 64  None    \n",
       "79 67 Placebo   Female 65  Marked  \n",
       "80 32 Placebo   Female 66  None    \n",
       "81 42 Placebo   Female 66  None    \n",
       "82 15 Placebo   Female 66  Some    \n",
       "83 71 Placebo   Female 68  Some    \n",
       "84  1 Placebo   Female 74  Marked  "
      ]
     },
     "metadata": {},
     "output_type": "display_data"
    },
    {
     "name": "stdout",
     "output_type": "stream",
     "text": [
      "\n",
      "Arthrt> data(\"Arthritis\")\n",
      "\n",
      "Arthrt> art <- xtabs(~ Treatment + Improved, data = Arthritis, subset = Sex == \"Female\")\n",
      "\n",
      "Arthrt> art\n",
      "         Improved\n",
      "Treatment None Some Marked\n",
      "  Placebo   19    7      6\n",
      "  Treated    6    5     16\n",
      "\n",
      "Arthrt> mosaic(art, gp = shading_Friendly)\n",
      "\n",
      "Arthrt> mosaic(art, gp = shading_max)\n"
     ]
    },
    {
     "data": {
      "image/png": "[encoded data removed]",
      "text/plain": [
       "plot without title"
      ]
     },
     "metadata": {
      "image/png": {
       "height": 420,
       "width": 420
      }
     },
     "output_type": "display_data"
    },
    {
     "data": {
      "image/png": "[encoded data removed]",
      "text/plain": [
       "plot without title"
      ]
     },
     "metadata": {
      "image/png": {
       "height": 420,
       "width": 420
      }
     },
     "output_type": "display_data"
    }
   ],
   "source": [
    "#1-3使用一个新包\n",
    "help.start()\n",
    "install.packages(\"vcd\")\n",
    "help(package = \"vcd\")\n",
    "library(vcd)\n",
    "help(Arthritis)\n",
    "Arthritis\n",
    "example(Arthritis)"
   ]
  },
  {
   "cell_type": "code",
   "execution_count": null,
   "id": "a15fdbe5",
   "metadata": {},
   "outputs": [],
   "source": []
  }
 ],
 "metadata": {
  "hide_input": false,
  "kernelspec": {
   "display_name": "R",
   "language": "R",
   "name": "ir"
  },
  "language_info": {
   "codemirror_mode": "r",
   "file_extension": ".r",
   "mimetype": "text/x-r-source",
   "name": "R",
   "pygments_lexer": "r",
   "version": "4.2.0"
  },
  "toc": {
   "base_numbering": 1,
   "nav_menu": {},
   "number_sections": true,
   "sideBar": true,
   "skip_h1_title": false,
   "title_cell": "Table of Contents",
   "title_sidebar": "Contents",
   "toc_cell": false,
   "toc_position": {},
   "toc_section_display": true,
   "toc_window_display": false
  },
  "varInspector": {
   "cols": {
    "lenName": 16,
    "lenType": 16,
    "lenVar": 40
   },
   "kernels_config": {
    "python": {
     "delete_cmd_postfix": "",
     "delete_cmd_prefix": "del ",
     "library": "var_list.py",
     "varRefreshCmd": "print(var_dic_list())"
    },
    "r": {
     "delete_cmd_postfix": ") ",
     "delete_cmd_prefix": "rm(",
     "library": "var_list.r",
     "varRefreshCmd": "cat(var_dic_list()) "
    }
   },
   "types_to_exclude": [
    "module",
    "function",
    "builtin_function_or_method",
    "instance",
    "_Feature"
   ],
   "window_display": false
  }
 },
 "nbformat": 4,
 "nbformat_minor": 5
}
