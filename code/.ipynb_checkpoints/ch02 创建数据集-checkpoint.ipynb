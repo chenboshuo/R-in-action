{
 "cells": [
  {
   "cell_type": "code",
   "execution_count": 1,
   "id": "bb462c92",
   "metadata": {
    "ExecuteTime": {
     "end_time": "2022-04-25T16:23:08.866566Z",
     "start_time": "2022-04-25T16:23:08.842Z"
    }
   },
   "outputs": [],
   "source": [
    "# 2.2.1 向量\n",
    "a <- c(1,2,5,3,6,-2,4)#数值型\n",
    "b <- c(\"one\",\"two\",\"three\")#字符型\n",
    "c <- c(TRUE,TRUE,TRUE,FALSE,TRUE,TRUE,FALSE)#逻辑型"
   ]
  },
  {
   "cell_type": "code",
   "execution_count": 9,
   "id": "50debc4f",
   "metadata": {
    "ExecuteTime": {
     "end_time": "2022-04-25T16:25:31.736804Z",
     "start_time": "2022-04-25T16:25:31.691Z"
    }
   },
   "outputs": [
    {
     "data": {
      "text/html": [
       "'h'"
      ],
      "text/latex": [
       "'h'"
      ],
      "text/markdown": [
       "'h'"
      ],
      "text/plain": [
       "[1] \"h\""
      ]
     },
     "metadata": {},
     "output_type": "display_data"
    },
    {
     "data": {
      "text/html": [
       "<style>\n",
       ".list-inline {list-style: none; margin:0; padding: 0}\n",
       ".list-inline>li {display: inline-block}\n",
       ".list-inline>li:not(:last-child)::after {content: \"\\00b7\"; padding: 0 .5ex}\n",
       "</style>\n",
       "<ol class=list-inline><li>'k'</li><li>'j'</li><li>'h'</li></ol>\n"
      ],
      "text/latex": [
       "\\begin{enumerate*}\n",
       "\\item 'k'\n",
       "\\item 'j'\n",
       "\\item 'h'\n",
       "\\end{enumerate*}\n"
      ],
      "text/markdown": [
       "1. 'k'\n",
       "2. 'j'\n",
       "3. 'h'\n",
       "\n",
       "\n"
      ],
      "text/plain": [
       "[1] \"k\" \"j\" \"h\""
      ]
     },
     "metadata": {},
     "output_type": "display_data"
    },
    {
     "data": {
      "text/html": [
       "'c'"
      ],
      "text/latex": [
       "'c'"
      ],
      "text/markdown": [
       "'c'"
      ],
      "text/plain": [
       "[1] \"c\""
      ]
     },
     "metadata": {},
     "output_type": "display_data"
    },
    {
     "data": {
      "text/html": [
       "<style>\n",
       ".list-inline {list-style: none; margin:0; padding: 0}\n",
       ".list-inline>li {display: inline-block}\n",
       ".list-inline>li:not(:last-child)::after {content: \"\\00b7\"; padding: 0 .5ex}\n",
       "</style>\n",
       "<ol class=list-inline><li>'k'</li><li>'h'</li><li>'c'</li></ol>\n"
      ],
      "text/latex": [
       "\\begin{enumerate*}\n",
       "\\item 'k'\n",
       "\\item 'h'\n",
       "\\item 'c'\n",
       "\\end{enumerate*}\n"
      ],
      "text/markdown": [
       "1. 'k'\n",
       "2. 'h'\n",
       "3. 'c'\n",
       "\n",
       "\n"
      ],
      "text/plain": [
       "[1] \"k\" \"h\" \"c\""
      ]
     },
     "metadata": {},
     "output_type": "display_data"
    }
   ],
   "source": [
    "a <- c(\"k\",\"j\",\"h\",\"a\",\"c\",\"m\")\n",
    "a[3]#提取第三个\n",
    "a[1:3]#提取1：3\n",
    "a[5]\n",
    "a[c(1,3,5)]# 提取1,3,5号位置"
   ]
  },
  {
   "cell_type": "code",
   "execution_count": 12,
   "id": "747c5e34",
   "metadata": {
    "ExecuteTime": {
     "end_time": "2022-04-26T14:01:54.070003Z",
     "start_time": "2022-04-26T14:01:54.044Z"
    }
   },
   "outputs": [
    {
     "data": {
      "text/html": [
       "<table class=\"dataframe\">\n",
       "<caption>A matrix: 5 × 4 of type int</caption>\n",
       "<tbody>\n",
       "\t<tr><td>1</td><td> 6</td><td>11</td><td>16</td></tr>\n",
       "\t<tr><td>2</td><td> 7</td><td>12</td><td>17</td></tr>\n",
       "\t<tr><td>3</td><td> 8</td><td>13</td><td>18</td></tr>\n",
       "\t<tr><td>4</td><td> 9</td><td>14</td><td>19</td></tr>\n",
       "\t<tr><td>5</td><td>10</td><td>15</td><td>20</td></tr>\n",
       "</tbody>\n",
       "</table>\n"
      ],
      "text/latex": [
       "A matrix: 5 × 4 of type int\n",
       "\\begin{tabular}{llll}\n",
       "\t 1 &  6 & 11 & 16\\\\\n",
       "\t 2 &  7 & 12 & 17\\\\\n",
       "\t 3 &  8 & 13 & 18\\\\\n",
       "\t 4 &  9 & 14 & 19\\\\\n",
       "\t 5 & 10 & 15 & 20\\\\\n",
       "\\end{tabular}\n"
      ],
      "text/markdown": [
       "\n",
       "A matrix: 5 × 4 of type int\n",
       "\n",
       "| 1 |  6 | 11 | 16 |\n",
       "| 2 |  7 | 12 | 17 |\n",
       "| 3 |  8 | 13 | 18 |\n",
       "| 4 |  9 | 14 | 19 |\n",
       "| 5 | 10 | 15 | 20 |\n",
       "\n"
      ],
      "text/plain": [
       "     [,1] [,2] [,3] [,4]\n",
       "[1,] 1     6   11   16  \n",
       "[2,] 2     7   12   17  \n",
       "[3,] 3     8   13   18  \n",
       "[4,] 4     9   14   19  \n",
       "[5,] 5    10   15   20  "
      ]
     },
     "metadata": {},
     "output_type": "display_data"
    }
   ],
   "source": [
    "# 2.2.2 矩阵\n",
    "#2.1 创建矩阵\n",
    "y <- matrix(1:20,nrow = 5,ncol = 4)\n",
    "y\n"
   ]
  },
  {
   "cell_type": "code",
   "execution_count": 13,
   "id": "1253634a",
   "metadata": {
    "ExecuteTime": {
     "end_time": "2022-04-26T14:01:57.080271Z",
     "start_time": "2022-04-26T14:01:57.051Z"
    }
   },
   "outputs": [
    {
     "data": {
      "text/html": [
       "<table class=\"dataframe\">\n",
       "<caption>A matrix: 2 × 2 of type dbl</caption>\n",
       "<thead>\n",
       "\t<tr><th></th><th scope=col>C1</th><th scope=col>C2</th></tr>\n",
       "</thead>\n",
       "<tbody>\n",
       "\t<tr><th scope=row>R1</th><td> 1</td><td>26</td></tr>\n",
       "\t<tr><th scope=row>R2</th><td>24</td><td>68</td></tr>\n",
       "</tbody>\n",
       "</table>\n"
      ],
      "text/latex": [
       "A matrix: 2 × 2 of type dbl\n",
       "\\begin{tabular}{r|ll}\n",
       "  & C1 & C2\\\\\n",
       "\\hline\n",
       "\tR1 &  1 & 26\\\\\n",
       "\tR2 & 24 & 68\\\\\n",
       "\\end{tabular}\n"
      ],
      "text/markdown": [
       "\n",
       "A matrix: 2 × 2 of type dbl\n",
       "\n",
       "| <!--/--> | C1 | C2 |\n",
       "|---|---|---|\n",
       "| R1 |  1 | 26 |\n",
       "| R2 | 24 | 68 |\n",
       "\n"
      ],
      "text/plain": [
       "   C1 C2\n",
       "R1  1 26\n",
       "R2 24 68"
      ]
     },
     "metadata": {},
     "output_type": "display_data"
    }
   ],
   "source": [
    "cells <- c(1,26,24,68)\n",
    "rnames <- c(\"R1\",\"R2\")\n",
    "cnames <- c(\"C1\",\"C2\")\n",
    "mymatrix <- matrix(cells,nrow = 2,ncol = 2,\n",
    "                  byrow = TRUE,#安装行进行填充\n",
    "                  dimnames = list(rnames,cnames))\n",
    "mymatrix"
   ]
  },
  {
   "cell_type": "code",
   "execution_count": 14,
   "id": "28e28a3b",
   "metadata": {
    "ExecuteTime": {
     "end_time": "2022-04-26T14:03:06.108119Z",
     "start_time": "2022-04-26T14:03:06.076Z"
    }
   },
   "outputs": [
    {
     "data": {
      "text/html": [
       "<table class=\"dataframe\">\n",
       "<caption>A matrix: 2 × 2 of type dbl</caption>\n",
       "<thead>\n",
       "\t<tr><th></th><th scope=col>C1</th><th scope=col>C2</th></tr>\n",
       "</thead>\n",
       "<tbody>\n",
       "\t<tr><th scope=row>R1</th><td> 1</td><td>24</td></tr>\n",
       "\t<tr><th scope=row>R2</th><td>26</td><td>68</td></tr>\n",
       "</tbody>\n",
       "</table>\n"
      ],
      "text/latex": [
       "A matrix: 2 × 2 of type dbl\n",
       "\\begin{tabular}{r|ll}\n",
       "  & C1 & C2\\\\\n",
       "\\hline\n",
       "\tR1 &  1 & 24\\\\\n",
       "\tR2 & 26 & 68\\\\\n",
       "\\end{tabular}\n"
      ],
      "text/markdown": [
       "\n",
       "A matrix: 2 × 2 of type dbl\n",
       "\n",
       "| <!--/--> | C1 | C2 |\n",
       "|---|---|---|\n",
       "| R1 |  1 | 24 |\n",
       "| R2 | 26 | 68 |\n",
       "\n"
      ],
      "text/plain": [
       "   C1 C2\n",
       "R1  1 24\n",
       "R2 26 68"
      ]
     },
     "metadata": {},
     "output_type": "display_data"
    }
   ],
   "source": [
    "mymatrix <- matrix(cells,nrow = 2,ncol = 2 ,\n",
    "                  byrow = FALSE,#安装列进行填充\n",
    "                  dimnames = list (rnames,cnames))\n",
    "mymatrix"
   ]
  },
  {
   "cell_type": "code",
   "execution_count": 15,
   "id": "b8b1fc65",
   "metadata": {
    "ExecuteTime": {
     "end_time": "2022-04-26T14:03:51.378741Z",
     "start_time": "2022-04-26T14:03:51.354Z"
    }
   },
   "outputs": [
    {
     "data": {
      "text/html": [
       "<table class=\"dataframe\">\n",
       "<caption>A matrix: 2 × 2 of type dbl</caption>\n",
       "<thead>\n",
       "\t<tr><th></th><th scope=col>C1</th><th scope=col>C2</th></tr>\n",
       "</thead>\n",
       "<tbody>\n",
       "\t<tr><th scope=row>R1</th><td> 1</td><td>24</td></tr>\n",
       "\t<tr><th scope=row>R2</th><td>26</td><td>68</td></tr>\n",
       "</tbody>\n",
       "</table>\n"
      ],
      "text/latex": [
       "A matrix: 2 × 2 of type dbl\n",
       "\\begin{tabular}{r|ll}\n",
       "  & C1 & C2\\\\\n",
       "\\hline\n",
       "\tR1 &  1 & 24\\\\\n",
       "\tR2 & 26 & 68\\\\\n",
       "\\end{tabular}\n"
      ],
      "text/markdown": [
       "\n",
       "A matrix: 2 × 2 of type dbl\n",
       "\n",
       "| <!--/--> | C1 | C2 |\n",
       "|---|---|---|\n",
       "| R1 |  1 | 24 |\n",
       "| R2 | 26 | 68 |\n",
       "\n"
      ],
      "text/plain": [
       "   C1 C2\n",
       "R1  1 24\n",
       "R2 26 68"
      ]
     },
     "metadata": {},
     "output_type": "display_data"
    }
   ],
   "source": [
    "mymatrix <- matrix(cells,nrow = 2,ncol = 2 ,\n",
    "\n",
    "                  dimnames = list (rnames,cnames))# 默认按照列进行填充\n",
    "mymatrix"
   ]
  },
  {
   "cell_type": "code",
   "execution_count": 16,
   "id": "b7682b5a",
   "metadata": {
    "ExecuteTime": {
     "end_time": "2022-04-26T14:04:53.559462Z",
     "start_time": "2022-04-26T14:04:53.533Z"
    }
   },
   "outputs": [
    {
     "data": {
      "text/html": [
       "<table class=\"dataframe\">\n",
       "<caption>A matrix: 2 × 5 of type int</caption>\n",
       "<tbody>\n",
       "\t<tr><td>1</td><td>3</td><td>5</td><td>7</td><td> 9</td></tr>\n",
       "\t<tr><td>2</td><td>4</td><td>6</td><td>8</td><td>10</td></tr>\n",
       "</tbody>\n",
       "</table>\n"
      ],
      "text/latex": [
       "A matrix: 2 × 5 of type int\n",
       "\\begin{tabular}{lllll}\n",
       "\t 1 & 3 & 5 & 7 &  9\\\\\n",
       "\t 2 & 4 & 6 & 8 & 10\\\\\n",
       "\\end{tabular}\n"
      ],
      "text/markdown": [
       "\n",
       "A matrix: 2 × 5 of type int\n",
       "\n",
       "| 1 | 3 | 5 | 7 |  9 |\n",
       "| 2 | 4 | 6 | 8 | 10 |\n",
       "\n"
      ],
      "text/plain": [
       "     [,1] [,2] [,3] [,4] [,5]\n",
       "[1,] 1    3    5    7     9  \n",
       "[2,] 2    4    6    8    10  "
      ]
     },
     "metadata": {},
     "output_type": "display_data"
    }
   ],
   "source": [
    "#2-2 矩阵下标的使用\n",
    "x <- matrix(1:10,nrow = 2)\n",
    "x"
   ]
  },
  {
   "cell_type": "code",
   "execution_count": 18,
   "id": "9905ffa8",
   "metadata": {
    "ExecuteTime": {
     "end_time": "2022-04-26T14:05:23.564431Z",
     "start_time": "2022-04-26T14:05:23.544Z"
    }
   },
   "outputs": [
    {
     "data": {
      "text/html": [
       "<style>\n",
       ".list-inline {list-style: none; margin:0; padding: 0}\n",
       ".list-inline>li {display: inline-block}\n",
       ".list-inline>li:not(:last-child)::after {content: \"\\00b7\"; padding: 0 .5ex}\n",
       "</style>\n",
       "<ol class=list-inline><li>3</li><li>4</li></ol>\n"
      ],
      "text/latex": [
       "\\begin{enumerate*}\n",
       "\\item 3\n",
       "\\item 4\n",
       "\\end{enumerate*}\n"
      ],
      "text/markdown": [
       "1. 3\n",
       "2. 4\n",
       "\n",
       "\n"
      ],
      "text/plain": [
       "[1] 3 4"
      ]
     },
     "metadata": {},
     "output_type": "display_data"
    }
   ],
   "source": [
    "x[,2]"
   ]
  },
  {
   "cell_type": "code",
   "execution_count": 19,
   "id": "d0f23007",
   "metadata": {
    "ExecuteTime": {
     "end_time": "2022-04-26T14:05:29.183733Z",
     "start_time": "2022-04-26T14:05:29.164Z"
    }
   },
   "outputs": [
    {
     "data": {
      "text/html": [
       "7"
      ],
      "text/latex": [
       "7"
      ],
      "text/markdown": [
       "7"
      ],
      "text/plain": [
       "[1] 7"
      ]
     },
     "metadata": {},
     "output_type": "display_data"
    }
   ],
   "source": [
    "x[1,4]"
   ]
  },
  {
   "cell_type": "code",
   "execution_count": 20,
   "id": "d64ca445",
   "metadata": {
    "ExecuteTime": {
     "end_time": "2022-04-26T14:06:40.858258Z",
     "start_time": "2022-04-26T14:06:40.836Z"
    }
   },
   "outputs": [
    {
     "data": {
      "text/html": [
       "<style>\n",
       ".list-inline {list-style: none; margin:0; padding: 0}\n",
       ".list-inline>li {display: inline-block}\n",
       ".list-inline>li:not(:last-child)::after {content: \"\\00b7\"; padding: 0 .5ex}\n",
       "</style>\n",
       "<ol class=list-inline><li>7</li><li>9</li></ol>\n"
      ],
      "text/latex": [
       "\\begin{enumerate*}\n",
       "\\item 7\n",
       "\\item 9\n",
       "\\end{enumerate*}\n"
      ],
      "text/markdown": [
       "1. 7\n",
       "2. 9\n",
       "\n",
       "\n"
      ],
      "text/plain": [
       "[1] 7 9"
      ]
     },
     "metadata": {},
     "output_type": "display_data"
    }
   ],
   "source": [
    "x [1,c(4,5)]"
   ]
  },
  {
   "cell_type": "code",
   "execution_count": 24,
   "id": "e8c33e7f",
   "metadata": {
    "ExecuteTime": {
     "end_time": "2022-04-26T14:09:32.402501Z",
     "start_time": "2022-04-26T14:09:32.376Z"
    }
   },
   "outputs": [
    {
     "data": {
      "text/html": [
       "<style>\n",
       ".list-inline {list-style: none; margin:0; padding: 0}\n",
       ".list-inline>li {display: inline-block}\n",
       ".list-inline>li:not(:last-child)::after {content: \"\\00b7\"; padding: 0 .5ex}\n",
       "</style>\n",
       "<ol class=list-inline><li>1</li><li>2</li><li>3</li><li>4</li><li>5</li><li>6</li><li>7</li><li>8</li><li>9</li><li>10</li><li>11</li><li>12</li><li>13</li><li>14</li><li>15</li><li>16</li><li>17</li><li>18</li><li>19</li><li>20</li><li>21</li><li>22</li><li>23</li><li>24</li></ol>\n"
      ],
      "text/latex": [
       "\\begin{enumerate*}\n",
       "\\item 1\n",
       "\\item 2\n",
       "\\item 3\n",
       "\\item 4\n",
       "\\item 5\n",
       "\\item 6\n",
       "\\item 7\n",
       "\\item 8\n",
       "\\item 9\n",
       "\\item 10\n",
       "\\item 11\n",
       "\\item 12\n",
       "\\item 13\n",
       "\\item 14\n",
       "\\item 15\n",
       "\\item 16\n",
       "\\item 17\n",
       "\\item 18\n",
       "\\item 19\n",
       "\\item 20\n",
       "\\item 21\n",
       "\\item 22\n",
       "\\item 23\n",
       "\\item 24\n",
       "\\end{enumerate*}\n"
      ],
      "text/markdown": [
       "1. 1\n",
       "2. 2\n",
       "3. 3\n",
       "4. 4\n",
       "5. 5\n",
       "6. 6\n",
       "7. 7\n",
       "8. 8\n",
       "9. 9\n",
       "10. 10\n",
       "11. 11\n",
       "12. 12\n",
       "13. 13\n",
       "14. 14\n",
       "15. 15\n",
       "16. 16\n",
       "17. 17\n",
       "18. 18\n",
       "19. 19\n",
       "20. 20\n",
       "21. 21\n",
       "22. 22\n",
       "23. 23\n",
       "24. 24\n",
       "\n",
       "\n"
      ],
      "text/plain": [
       ", , C1\n",
       "\n",
       "   B1 B2 B3\n",
       "A1  1  3  5\n",
       "A2  2  4  6\n",
       "\n",
       ", , C2\n",
       "\n",
       "   B1 B2 B3\n",
       "A1  7  9 11\n",
       "A2  8 10 12\n",
       "\n",
       ", , C3\n",
       "\n",
       "   B1 B2 B3\n",
       "A1 13 15 17\n",
       "A2 14 16 18\n",
       "\n",
       ", , C4\n",
       "\n",
       "   B1 B2 B3\n",
       "A1 19 21 23\n",
       "A2 20 22 24\n"
      ]
     },
     "metadata": {},
     "output_type": "display_data"
    }
   ],
   "source": [
    "# 2.2.3 数组\n",
    "# 2-3 创建一个数组\n",
    "dim1 <- c(\"A1\",\"A2\")\n",
    "dim2 <- c(\"B1\",\"B2\",\"B3\")\n",
    "dim3 <- c(\"C1\",\"C2\",\"C3\",\"C4\")\n",
    "z <- array(1:24,c(2,3,4),dimnames = list(dim1,dim2,dim3))\n",
    "z"
   ]
  },
  {
   "attachments": {
    "image.png": {
     "image/png": "[encoded data removed]"
    }
   },
   "cell_type": "markdown",
   "id": "72e69735",
   "metadata": {
    "ExecuteTime": {
     "end_time": "2022-04-26T14:09:07.430425Z",
     "start_time": "2022-04-26T14:09:07.410Z"
    }
   },
   "source": [
    "![image.png](attachment:image.png)"
   ]
  },
  {
   "cell_type": "code",
   "execution_count": 3,
   "id": "9d6ab61f",
   "metadata": {
    "ExecuteTime": {
     "end_time": "2022-04-26T15:11:17.485085Z",
     "start_time": "2022-04-26T15:11:17.449Z"
    }
   },
   "outputs": [
    {
     "data": {
      "text/html": [
       "<table class=\"dataframe\">\n",
       "<caption>A data.frame: 4 × 4</caption>\n",
       "<thead>\n",
       "\t<tr><th scope=col>patientID</th><th scope=col>age</th><th scope=col>diabetes</th><th scope=col>status</th></tr>\n",
       "\t<tr><th scope=col>&lt;dbl&gt;</th><th scope=col>&lt;dbl&gt;</th><th scope=col>&lt;chr&gt;</th><th scope=col>&lt;chr&gt;</th></tr>\n",
       "</thead>\n",
       "<tbody>\n",
       "\t<tr><td>1</td><td>25</td><td>Typel</td><td>Poor     </td></tr>\n",
       "\t<tr><td>2</td><td>34</td><td>Type2</td><td>Improved </td></tr>\n",
       "\t<tr><td>3</td><td>28</td><td>Typel</td><td>Excellent</td></tr>\n",
       "\t<tr><td>4</td><td>52</td><td>Typel</td><td>Poor     </td></tr>\n",
       "</tbody>\n",
       "</table>\n"
      ],
      "text/latex": [
       "A data.frame: 4 × 4\n",
       "\\begin{tabular}{llll}\n",
       " patientID & age & diabetes & status\\\\\n",
       " <dbl> & <dbl> & <chr> & <chr>\\\\\n",
       "\\hline\n",
       "\t 1 & 25 & Typel & Poor     \\\\\n",
       "\t 2 & 34 & Type2 & Improved \\\\\n",
       "\t 3 & 28 & Typel & Excellent\\\\\n",
       "\t 4 & 52 & Typel & Poor     \\\\\n",
       "\\end{tabular}\n"
      ],
      "text/markdown": [
       "\n",
       "A data.frame: 4 × 4\n",
       "\n",
       "| patientID &lt;dbl&gt; | age &lt;dbl&gt; | diabetes &lt;chr&gt; | status &lt;chr&gt; |\n",
       "|---|---|---|---|\n",
       "| 1 | 25 | Typel | Poor      |\n",
       "| 2 | 34 | Type2 | Improved  |\n",
       "| 3 | 28 | Typel | Excellent |\n",
       "| 4 | 52 | Typel | Poor      |\n",
       "\n"
      ],
      "text/plain": [
       "  patientID age diabetes status   \n",
       "1 1         25  Typel    Poor     \n",
       "2 2         34  Type2    Improved \n",
       "3 3         28  Typel    Excellent\n",
       "4 4         52  Typel    Poor     "
      ]
     },
     "metadata": {},
     "output_type": "display_data"
    }
   ],
   "source": [
    "# 2.2.4 数据框\n",
    "# 2-4 创建一个数据框\n",
    "patientID <- c(1,2,3,4)\n",
    "age <- c(25,34,28,52)\n",
    "diabetes <- c(\"Typel\",\"Type2\",\"Typel\",\"Typel\")\n",
    "status <- c(\"Poor\",\"Improved\",\"Excellent\",\"Poor\")\n",
    "patientdata <- data.frame(patientID,age,diabetes,status)\n",
    "patientdata"
   ]
  },
  {
   "cell_type": "code",
   "execution_count": 4,
   "id": "df0f20ee",
   "metadata": {
    "ExecuteTime": {
     "end_time": "2022-04-26T15:11:19.413800Z",
     "start_time": "2022-04-26T15:11:19.388Z"
    }
   },
   "outputs": [
    {
     "data": {
      "text/html": [
       "<table class=\"dataframe\">\n",
       "<caption>A data.frame: 4 × 2</caption>\n",
       "<thead>\n",
       "\t<tr><th scope=col>patientID</th><th scope=col>age</th></tr>\n",
       "\t<tr><th scope=col>&lt;dbl&gt;</th><th scope=col>&lt;dbl&gt;</th></tr>\n",
       "</thead>\n",
       "<tbody>\n",
       "\t<tr><td>1</td><td>25</td></tr>\n",
       "\t<tr><td>2</td><td>34</td></tr>\n",
       "\t<tr><td>3</td><td>28</td></tr>\n",
       "\t<tr><td>4</td><td>52</td></tr>\n",
       "</tbody>\n",
       "</table>\n"
      ],
      "text/latex": [
       "A data.frame: 4 × 2\n",
       "\\begin{tabular}{ll}\n",
       " patientID & age\\\\\n",
       " <dbl> & <dbl>\\\\\n",
       "\\hline\n",
       "\t 1 & 25\\\\\n",
       "\t 2 & 34\\\\\n",
       "\t 3 & 28\\\\\n",
       "\t 4 & 52\\\\\n",
       "\\end{tabular}\n"
      ],
      "text/markdown": [
       "\n",
       "A data.frame: 4 × 2\n",
       "\n",
       "| patientID &lt;dbl&gt; | age &lt;dbl&gt; |\n",
       "|---|---|\n",
       "| 1 | 25 |\n",
       "| 2 | 34 |\n",
       "| 3 | 28 |\n",
       "| 4 | 52 |\n",
       "\n"
      ],
      "text/plain": [
       "  patientID age\n",
       "1 1         25 \n",
       "2 2         34 \n",
       "3 3         28 \n",
       "4 4         52 "
      ]
     },
     "metadata": {},
     "output_type": "display_data"
    }
   ],
   "source": [
    "#2-5 选取数据框中的元素\n",
    "patientdata[1:2]"
   ]
  },
  {
   "cell_type": "code",
   "execution_count": 5,
   "id": "f2940ce1",
   "metadata": {
    "ExecuteTime": {
     "end_time": "2022-04-26T15:11:21.355833Z",
     "start_time": "2022-04-26T15:11:21.332Z"
    }
   },
   "outputs": [
    {
     "data": {
      "text/html": [
       "<table class=\"dataframe\">\n",
       "<caption>A data.frame: 4 × 2</caption>\n",
       "<thead>\n",
       "\t<tr><th scope=col>diabetes</th><th scope=col>status</th></tr>\n",
       "\t<tr><th scope=col>&lt;chr&gt;</th><th scope=col>&lt;chr&gt;</th></tr>\n",
       "</thead>\n",
       "<tbody>\n",
       "\t<tr><td>Typel</td><td>Poor     </td></tr>\n",
       "\t<tr><td>Type2</td><td>Improved </td></tr>\n",
       "\t<tr><td>Typel</td><td>Excellent</td></tr>\n",
       "\t<tr><td>Typel</td><td>Poor     </td></tr>\n",
       "</tbody>\n",
       "</table>\n"
      ],
      "text/latex": [
       "A data.frame: 4 × 2\n",
       "\\begin{tabular}{ll}\n",
       " diabetes & status\\\\\n",
       " <chr> & <chr>\\\\\n",
       "\\hline\n",
       "\t Typel & Poor     \\\\\n",
       "\t Type2 & Improved \\\\\n",
       "\t Typel & Excellent\\\\\n",
       "\t Typel & Poor     \\\\\n",
       "\\end{tabular}\n"
      ],
      "text/markdown": [
       "\n",
       "A data.frame: 4 × 2\n",
       "\n",
       "| diabetes &lt;chr&gt; | status &lt;chr&gt; |\n",
       "|---|---|\n",
       "| Typel | Poor      |\n",
       "| Type2 | Improved  |\n",
       "| Typel | Excellent |\n",
       "| Typel | Poor      |\n",
       "\n"
      ],
      "text/plain": [
       "  diabetes status   \n",
       "1 Typel    Poor     \n",
       "2 Type2    Improved \n",
       "3 Typel    Excellent\n",
       "4 Typel    Poor     "
      ]
     },
     "metadata": {},
     "output_type": "display_data"
    }
   ],
   "source": [
    "patientdata[c(\"diabetes\",\"status\")]\n"
   ]
  },
  {
   "cell_type": "code",
   "execution_count": 6,
   "id": "777113db",
   "metadata": {
    "ExecuteTime": {
     "end_time": "2022-04-26T15:11:36.050369Z",
     "start_time": "2022-04-26T15:11:36.026Z"
    }
   },
   "outputs": [
    {
     "data": {
      "text/html": [
       "<table class=\"dataframe\">\n",
       "<caption>A data.frame: 4 × 4</caption>\n",
       "<thead>\n",
       "\t<tr><th scope=col>patientID</th><th scope=col>age</th><th scope=col>diabetes</th><th scope=col>status</th></tr>\n",
       "\t<tr><th scope=col>&lt;dbl&gt;</th><th scope=col>&lt;dbl&gt;</th><th scope=col>&lt;chr&gt;</th><th scope=col>&lt;chr&gt;</th></tr>\n",
       "</thead>\n",
       "<tbody>\n",
       "\t<tr><td>1</td><td>25</td><td>Typel</td><td>Poor     </td></tr>\n",
       "\t<tr><td>2</td><td>34</td><td>Type2</td><td>Improved </td></tr>\n",
       "\t<tr><td>3</td><td>28</td><td>Typel</td><td>Excellent</td></tr>\n",
       "\t<tr><td>4</td><td>52</td><td>Typel</td><td>Poor     </td></tr>\n",
       "</tbody>\n",
       "</table>\n"
      ],
      "text/latex": [
       "A data.frame: 4 × 4\n",
       "\\begin{tabular}{llll}\n",
       " patientID & age & diabetes & status\\\\\n",
       " <dbl> & <dbl> & <chr> & <chr>\\\\\n",
       "\\hline\n",
       "\t 1 & 25 & Typel & Poor     \\\\\n",
       "\t 2 & 34 & Type2 & Improved \\\\\n",
       "\t 3 & 28 & Typel & Excellent\\\\\n",
       "\t 4 & 52 & Typel & Poor     \\\\\n",
       "\\end{tabular}\n"
      ],
      "text/markdown": [
       "\n",
       "A data.frame: 4 × 4\n",
       "\n",
       "| patientID &lt;dbl&gt; | age &lt;dbl&gt; | diabetes &lt;chr&gt; | status &lt;chr&gt; |\n",
       "|---|---|---|---|\n",
       "| 1 | 25 | Typel | Poor      |\n",
       "| 2 | 34 | Type2 | Improved  |\n",
       "| 3 | 28 | Typel | Excellent |\n",
       "| 4 | 52 | Typel | Poor      |\n",
       "\n"
      ],
      "text/plain": [
       "  patientID age diabetes status   \n",
       "1 1         25  Typel    Poor     \n",
       "2 2         34  Type2    Improved \n",
       "3 3         28  Typel    Excellent\n",
       "4 4         52  Typel    Poor     "
      ]
     },
     "metadata": {},
     "output_type": "display_data"
    }
   ],
   "source": [
    "patientdata"
   ]
  },
  {
   "cell_type": "code",
   "execution_count": 7,
   "id": "81d8975e",
   "metadata": {
    "ExecuteTime": {
     "end_time": "2022-04-26T15:11:47.937598Z",
     "start_time": "2022-04-26T15:11:47.914Z"
    }
   },
   "outputs": [
    {
     "data": {
      "text/html": [
       "<style>\n",
       ".list-inline {list-style: none; margin:0; padding: 0}\n",
       ".list-inline>li {display: inline-block}\n",
       ".list-inline>li:not(:last-child)::after {content: \"\\00b7\"; padding: 0 .5ex}\n",
       "</style>\n",
       "<ol class=list-inline><li>25</li><li>34</li><li>28</li><li>52</li></ol>\n"
      ],
      "text/latex": [
       "\\begin{enumerate*}\n",
       "\\item 25\n",
       "\\item 34\n",
       "\\item 28\n",
       "\\item 52\n",
       "\\end{enumerate*}\n"
      ],
      "text/markdown": [
       "1. 25\n",
       "2. 34\n",
       "3. 28\n",
       "4. 52\n",
       "\n",
       "\n"
      ],
      "text/plain": [
       "[1] 25 34 28 52"
      ]
     },
     "metadata": {},
     "output_type": "display_data"
    }
   ],
   "source": [
    "patientdata$age"
   ]
  },
  {
   "cell_type": "code",
   "execution_count": 8,
   "id": "73989b86",
   "metadata": {
    "ExecuteTime": {
     "end_time": "2022-04-26T15:12:20.759974Z",
     "start_time": "2022-04-26T15:12:20.738Z"
    }
   },
   "outputs": [
    {
     "data": {
      "text/plain": [
       "       \n",
       "        Excellent Improved Poor\n",
       "  Type2         0        1    0\n",
       "  Typel         1        0    2"
      ]
     },
     "metadata": {},
     "output_type": "display_data"
    }
   ],
   "source": [
    "table(patientdata$diabetes,patientdata$status)"
   ]
  },
  {
   "cell_type": "code",
   "execution_count": null,
   "id": "0925d4ff",
   "metadata": {},
   "outputs": [],
   "source": []
  }
 ],
 "metadata": {
  "hide_input": false,
  "kernelspec": {
   "display_name": "R",
   "language": "R",
   "name": "ir"
  },
  "language_info": {
   "codemirror_mode": "r",
   "file_extension": ".r",
   "mimetype": "text/x-r-source",
   "name": "R",
   "pygments_lexer": "r",
   "version": "4.2.0"
  },
  "toc": {
   "base_numbering": 1,
   "nav_menu": {},
   "number_sections": true,
   "sideBar": true,
   "skip_h1_title": false,
   "title_cell": "Table of Contents",
   "title_sidebar": "Contents",
   "toc_cell": false,
   "toc_position": {},
   "toc_section_display": true,
   "toc_window_display": false
  },
  "varInspector": {
   "cols": {
    "lenName": 16,
    "lenType": 16,
    "lenVar": 40
   },
   "kernels_config": {
    "python": {
     "delete_cmd_postfix": "",
     "delete_cmd_prefix": "del ",
     "library": "var_list.py",
     "varRefreshCmd": "print(var_dic_list())"
    },
    "r": {
     "delete_cmd_postfix": ") ",
     "delete_cmd_prefix": "rm(",
     "library": "var_list.r",
     "varRefreshCmd": "cat(var_dic_list()) "
    }
   },
   "types_to_exclude": [
    "module",
    "function",
    "builtin_function_or_method",
    "instance",
    "_Feature"
   ],
   "window_display": false
  }
 },
 "nbformat": 4,
 "nbformat_minor": 5
}
